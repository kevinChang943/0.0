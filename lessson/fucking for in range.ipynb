{
 "cells": [
  {
   "cell_type": "code",
   "execution_count": 2,
   "id": "c8c15353",
   "metadata": {},
   "outputs": [
    {
     "name": "stdout",
     "output_type": "stream",
     "text": [
      "1\n",
      "2\n",
      "3\n",
      "4\n",
      "5\n",
      "6\n",
      "7\n",
      "8\n",
      "9\n",
      "10\n",
      "11\n",
      "12\n",
      "13\n",
      "14\n",
      "15\n",
      "16\n",
      "17\n",
      "18\n",
      "19\n",
      "20\n",
      "21\n",
      "22\n",
      "23\n",
      "24\n",
      "25\n",
      "26\n",
      "27\n",
      "28\n",
      "29\n",
      "30\n",
      "31\n",
      "32\n",
      "33\n",
      "34\n",
      "35\n",
      "36\n",
      "37\n",
      "38\n",
      "39\n",
      "40\n",
      "41\n",
      "42\n",
      "43\n",
      "44\n",
      "45\n",
      "46\n",
      "47\n",
      "48\n",
      "49\n",
      "50\n",
      "51\n",
      "52\n",
      "53\n",
      "54\n",
      "55\n",
      "56\n",
      "57\n",
      "58\n",
      "59\n",
      "60\n",
      "61\n",
      "62\n",
      "63\n",
      "64\n",
      "65\n",
      "66\n",
      "67\n",
      "68\n",
      "69\n",
      "70\n",
      "71\n",
      "72\n",
      "73\n",
      "74\n",
      "75\n",
      "76\n",
      "77\n",
      "78\n",
      "79\n",
      "80\n",
      "81\n",
      "82\n",
      "83\n",
      "84\n",
      "85\n",
      "86\n",
      "87\n",
      "88\n",
      "89\n",
      "90\n",
      "91\n",
      "92\n",
      "93\n",
      "94\n",
      "95\n",
      "96\n",
      "97\n",
      "98\n",
      "99\n",
      "100\n"
     ]
    }
   ],
   "source": [
    "for i in range(1,101):\n",
    "    print(i)"
   ]
  },
  {
   "cell_type": "code",
   "execution_count": 3,
   "id": "394286ef",
   "metadata": {},
   "outputs": [
    {
     "data": {
      "text/plain": [
       "[0, 1, 2]"
      ]
     },
     "execution_count": 3,
     "metadata": {},
     "output_type": "execute_result"
    }
   ],
   "source": [
    "list( range(0, 3))"
   ]
  },
  {
   "cell_type": "code",
   "execution_count": 29,
   "id": "411b959f",
   "metadata": {},
   "outputs": [
    {
     "name": "stdout",
     "output_type": "stream",
     "text": [
      "100\n"
     ]
    }
   ],
   "source": [
    "numbers = [10, 20, 30, 40]\n",
    "total = sum(numbers)\n",
    "print(total) "
   ]
  },
  {
   "cell_type": "code",
   "execution_count": 8,
   "id": "38c97429",
   "metadata": {},
   "outputs": [
    {
     "ename": "ZeroDivisionError",
     "evalue": "division by zero",
     "output_type": "error",
     "traceback": [
      "\u001b[31m---------------------------------------------------------------------------\u001b[39m",
      "\u001b[31mZeroDivisionError\u001b[39m                         Traceback (most recent call last)",
      "\u001b[36mCell\u001b[39m\u001b[36m \u001b[39m\u001b[32mIn[8]\u001b[39m\u001b[32m, line 8\u001b[39m\n\u001b[32m      6\u001b[39m \u001b[38;5;66;03m# 計算總成績和平均成績\u001b[39;00m\n\u001b[32m      7\u001b[39m total_score = \u001b[38;5;28msum\u001b[39m(scores)\n\u001b[32m----> \u001b[39m\u001b[32m8\u001b[39m average_score = \u001b[43mtotal_score\u001b[49m\u001b[43m \u001b[49m\u001b[43m/\u001b[49m\u001b[43m \u001b[49m\u001b[38;5;28;43mlen\u001b[39;49m\u001b[43m(\u001b[49m\u001b[43mscores\u001b[49m\u001b[43m)\u001b[49m\n\u001b[32m     10\u001b[39m \u001b[38;5;66;03m# 顯示結果\u001b[39;00m\n\u001b[32m     11\u001b[39m \u001b[38;5;28mprint\u001b[39m(\u001b[33m\"\u001b[39m\u001b[33m班上總成績:\u001b[39m\u001b[33m\"\u001b[39m, total_score)\n",
      "\u001b[31mZeroDivisionError\u001b[39m: division by zero"
     ]
    }
   ],
   "source": [
    "# 輸入五位學生的成績\n",
    "scores = []\n",
    "for i in range(5):\n",
    "    score = float(input(f\"請輸入第{i+1}位學生的成績: \"))\n",
    "\n",
    "# 計算總成績和平均成績\n",
    "total_score = sum(scores)\n",
    "average_score = total_score / len(scores)\n",
    "\n",
    "# 顯示結果\n",
    "print(\"班上總成績:\", total_score)\n",
    "print(\"班上平均成績:\", average_score)\n"
   ]
  },
  {
   "cell_type": "code",
   "execution_count": 34,
   "id": "f7a0222a",
   "metadata": {},
   "outputs": [
    {
     "name": "stdout",
     "output_type": "stream",
     "text": [
      "三個參數\n",
      "4\n",
      "6\n",
      "離開後i為 6\n"
     ]
    }
   ],
   "source": [
    "#(2)for 迴圈三個參數:請留意輸出結果\n",
    "#for3-2.py\n",
    "\n",
    "print(\"三個參數\") \n",
    "for i in range(4,8,2):\n",
    "    print(i) \n",
    "print(\"離開後i為\",i)"
   ]
  },
  {
   "cell_type": "code",
   "execution_count": 35,
   "id": "ea05f53a",
   "metadata": {},
   "outputs": [
    {
     "name": "stdout",
     "output_type": "stream",
     "text": [
      "0\n",
      "2\n",
      "4\n",
      "6\n"
     ]
    }
   ],
   "source": [
    "for x in range(0,8,2) :\n",
    "    print(x)"
   ]
  },
  {
   "cell_type": "code",
   "execution_count": 36,
   "id": "d47909eb",
   "metadata": {},
   "outputs": [
    {
     "name": "stdout",
     "output_type": "stream",
     "text": [
      "1加到100的加總為5050\n"
     ]
    }
   ],
   "source": [
    "#1~100的加總\n",
    "total = 0\n",
    "for i in range(1,101):\n",
    "    total += i\n",
    "\n",
    "print(f\"1加到100的加總為{total}\") "
   ]
  },
  {
   "cell_type": "code",
   "execution_count": 13,
   "id": "7c9335d5",
   "metadata": {},
   "outputs": [
    {
     "name": "stdout",
     "output_type": "stream",
     "text": [
      "體重為:55.0公斤\n",
      "身高為:1.2公尺\n",
      "BMI為:38.19444444444444\n",
      "虎式坦克\n"
     ]
    }
   ],
   "source": [
    "###BMI，然後做出清、中、重度，和適中\n",
    "kg=float(input('請輸入體重'))\n",
    "m=float(input('請輸入身高'))\n",
    "print(f'體重為:{kg}公斤')\n",
    "print(f'身高為:{m}公尺')\n",
    "import sys\n",
    "BMI=kg/(m**2)\n",
    "print(f'BMI為:{BMI}')\n",
    "if BMI<0:\n",
    "    print('身高或體重輸入有異常，請重新輸入')\n",
    "    sys.exit(1)\n",
    "if BMI<18.5:\n",
    "    print('體重過輕')\n",
    "elif BMI>=18.5 and BMI<24:\n",
    "    print('體重適中')\n",
    "elif BMI>=24 and BMI<27:\n",
    "    print('體重過重')\n",
    "elif BMI>=27 and BMI<30:\n",
    "    print('輕度肥胖')\n",
    "elif BMI>=30 and BMI<35:\n",
    "    print('中度肥胖')\n",
    "elif BMI>=35:\n",
    "    print('虎式坦克')\n",
    "\n",
    "\n"
   ]
  }
 ],
 "metadata": {
  "kernelspec": {
   "display_name": "base",
   "language": "python",
   "name": "python3"
  },
  "language_info": {
   "codemirror_mode": {
    "name": "ipython",
    "version": 3
   },
   "file_extension": ".py",
   "mimetype": "text/x-python",
   "name": "python",
   "nbconvert_exporter": "python",
   "pygments_lexer": "ipython3",
   "version": "3.12.9"
  }
 },
 "nbformat": 4,
 "nbformat_minor": 5
}
