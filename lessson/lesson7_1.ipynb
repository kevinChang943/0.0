{
 "cells": [
  {
   "cell_type": "code",
   "execution_count": 1,
   "id": "ab48187c",
   "metadata": {},
   "outputs": [],
   "source": [
    "weekday:tuple=(\"momday\",\"tuesdaay\",\"wednesday\",\"thusrday\",\"friday\",\"saturday\",\"sunday\")"
   ]
  },
  {
   "cell_type": "code",
   "execution_count": 3,
   "id": "e2e3679e",
   "metadata": {},
   "outputs": [
    {
     "data": {
      "text/plain": [
       "'momday'"
      ]
     },
     "execution_count": 3,
     "metadata": {},
     "output_type": "execute_result"
    }
   ],
   "source": [
    "weekday[0]"
   ]
  },
  {
   "cell_type": "code",
   "execution_count": 4,
   "id": "ab7b5610",
   "metadata": {},
   "outputs": [
    {
     "name": "stdout",
     "output_type": "stream",
     "text": [
      "momday\n",
      "tuesdaay\n",
      "wednesday\n",
      "thusrday\n",
      "friday\n",
      "saturday\n",
      "sunday\n"
     ]
    }
   ],
   "source": [
    "for day in weekday:\n",
    "    print(day)\n",
    "    "
   ]
  },
  {
   "cell_type": "code",
   "execution_count": 9,
   "id": "eb3d65f9",
   "metadata": {},
   "outputs": [
    {
     "data": {
      "text/plain": [
       "('k', 354, 35)"
      ]
     },
     "execution_count": 9,
     "metadata": {},
     "output_type": "execute_result"
    }
   ],
   "source": [
    "('k',35,354)\n",
    "(name,age,number)=('k',35,354)\n",
    "name\n",
    "age\n",
    "number\n",
    "name,number,age"
   ]
  },
  {
   "cell_type": "code",
   "execution_count": 1,
   "id": "c40f6373",
   "metadata": {},
   "outputs": [
    {
     "name": "stdout",
     "output_type": "stream",
     "text": [
      "父親表現型輸入無效\n"
     ]
    }
   ],
   "source": [
    "def calculate_g6pd_risk(mother_phenotype, father_phenotype):\n",
    "    \"\"\"\n",
    "    根據父母的表現型計算子孫罹患蠶豆症 (G6PD 缺乏症) 的比例。\n",
    "    Calculate the risk of offspring having G6PD deficiency based on parental phenotypes.\n",
    "\n",
    "    蠶豆症是一個 X 染色體連鎖的隱性遺傳疾病。\n",
    "    G6PD deficiency is an X-linked recessive genetic disorder.\n",
    "\n",
    "    Args:\n",
    "        mother_phenotype (str): 母親的表現型 ('正常', '帶因者', '蠶豆症')。\n",
    "                               Mother's phenotype ('Normal', 'Carrier', 'Affected')\n",
    "        father_phenotype (str): 父親的表現型 ('正常', '蠶豆症')。\n",
    "                               Father's phenotype ('Normal', 'Affected')\n",
    "\n",
    "    Returns:\n",
    "        dict: 包含後代不同性別和罹患狀態比例的字典。\n",
    "              Dictionary with risk proportions by gender and condition.\n",
    "    \"\"\"\n",
    "\n",
    "    # 定義母親的可能基因型（GG, Gg, gg）\n",
    "    # Define possible mother genotypes (GG, Gg, gg)\n",
    "    mother_genotypes = []\n",
    "    if mother_phenotype == '正常':  # Normal\n",
    "        mother_genotypes = ['GG']\n",
    "    elif mother_phenotype == '帶因者':  # Carrier\n",
    "        mother_genotypes = ['Gg']\n",
    "    elif mother_phenotype == '蠶豆症':  # Affected\n",
    "        mother_genotypes = ['gg']\n",
    "    else:\n",
    "        return {\"error\": \"母親表現型輸入無效\"}  # Invalid mother input\n",
    "\n",
    "    # 定義父親的可能基因型（GY, gY）\n",
    "    # Define possible father genotypes (GY, gY)\n",
    "    father_genotypes = []\n",
    "    if father_phenotype == '正常':  # Normal\n",
    "        father_genotypes = ['GY']\n",
    "    elif father_phenotype == '蠶豆症':  # Affected\n",
    "        father_genotypes = ['gY']\n",
    "    else:\n",
    "        return {\"error\": \"父親表現型輸入無效\"}  # Invalid father input\n",
    "\n",
    "    # 初始化子代結果的統計資料\n",
    "    # Initialize offspring outcome statistics\n",
    "    offspring_outcomes = {\n",
    "        '男性': {'正常': 0, '蠶豆症': 0},  # Males: Normal, Affected\n",
    "        '女性': {'正常': 0, '帶因者': 0, '蠶豆症': 0}  # Females: Normal, Carrier, Affected\n",
    "    }\n",
    "    total_outcomes = 0  # 子代總組合數 / Total number of offspring combinations\n",
    "\n",
    "    # 對每一組母親與父親基因型進行組合計算\n",
    "    # For each combination of mother and father genotype\n",
    "    for m_genotype in mother_genotypes:\n",
    "        for f_genotype in father_genotypes:\n",
    "            # 列出母親和父親的配子（各貢獻一個染色體）\n",
    "            # List gametes from each parent\n",
    "            mother_gametes = [m_genotype[0], m_genotype[1]]\n",
    "            father_gametes = [f_genotype[0], f_genotype[1]]\n",
    "\n",
    "            # 對所有可能配子組合進行交配模擬\n",
    "            # Simulate all possible gamete combinations\n",
    "            for m_gamete in mother_gametes:\n",
    "                for f_gamete in father_gametes:\n",
    "                    total_outcomes += 1  # 計算總組合次數 / Count total combinations\n",
    "                    offspring_genotype = m_gamete + f_gamete  # 子代基因型 / Offspring genotype\n",
    "\n",
    "                    # 判斷子代性別與其表現型\n",
    "                    # Determine sex and phenotype of offspring\n",
    "                    if 'Y' in offspring_genotype:  # 男性（XY）/ Male\n",
    "                        if 'g' in offspring_genotype:  # 有 g 表示有缺陷基因 / Has defective gene\n",
    "                            offspring_outcomes['男性']['蠶豆症'] += 1\n",
    "                        else:\n",
    "                            offspring_outcomes['男性']['正常'] += 1\n",
    "                    else:  # 女性（XX）/ Female\n",
    "                        # 排序基因使得 Gg 和 gG 統一成 Gg / Sort to normalize genotype representation\n",
    "                        sorted_genotype = sorted(offspring_genotype)\n",
    "                        offspring_genotype_sorted_str = \"\".join(sorted_genotype)\n",
    "\n",
    "                        if offspring_genotype_sorted_str == 'gg':\n",
    "                            offspring_outcomes['女性']['蠶豆症'] += 1\n",
    "                        elif offspring_genotype_sorted_str == 'Gg':\n",
    "                            offspring_outcomes['女性']['帶因者'] += 1\n",
    "                        else:  # GG\n",
    "                            offspring_outcomes['女性']['正常'] += 1\n",
    "\n",
    "    # 計算結果比例\n",
    "    # Calculate proportions\n",
    "    results = {\n",
    "        '男性': {},\n",
    "        '女性': {},\n",
    "        '總體罹患比例': 0,  # Overall affected rate\n",
    "        '總體帶因比例': 0   # Overall carrier rate (female only)\n",
    "    }\n",
    "\n",
    "    if total_outcomes > 0:\n",
    "        # 男性部分的比例計算 / Male risk proportion\n",
    "        results['男性']['正常比例'] = offspring_outcomes['男性']['正常'] / (\n",
    "            offspring_outcomes['男性']['正常'] + offspring_outcomes['男性']['蠶豆症']\n",
    "        ) if (offspring_outcomes['男性']['正常'] + offspring_outcomes['男性']['蠶豆症']) > 0 else 0\n",
    "\n",
    "        results['男性']['蠶豆症比例'] = offspring_outcomes['男性']['蠶豆症'] / (\n",
    "            offspring_outcomes['男性']['正常'] + offspring_outcomes['男性']['蠶豆症']\n",
    "        ) if (offspring_outcomes['男性']['正常'] + offspring_outcomes['男性']['蠶豆症']) > 0 else 0\n",
    "\n",
    "        # 女性部分的比例計算 / Female risk proportion\n",
    "        female_total = (\n",
    "            offspring_outcomes['女性']['正常'] +\n",
    "            offspring_outcomes['女性']['帶因者'] +\n",
    "            offspring_outcomes['女性']['蠶豆症']\n",
    "        )\n",
    "\n",
    "        results['女性']['正常比例'] = offspring_outcomes['女性']['正常'] / female_total if female_total > 0 else 0\n",
    "        results['女性']['帶因比例'] = offspring_outcomes['女性']['帶因者'] / female_total if female_total > 0 else 0\n",
    "        results['女性']['蠶豆症比例'] = offspring_outcomes['女性']['蠶豆症'] / female_total if female_total > 0 else 0\n",
    "\n",
    "        # 全部子代中罹患蠶豆症的比例 / Overall affected rate among all children\n",
    "        total_affected = offspring_outcomes['男性']['蠶豆症'] + offspring_outcomes['女性']['蠶豆症']\n",
    "        results['總體罹患比例'] = total_affected / total_outcomes\n",
    "\n",
    "        # 所有子代中女性帶因者的比例 / Overall female carrier rate\n",
    "        total_carrier = offspring_outcomes['女性']['帶因者']\n",
    "        results['總體帶因比例'] = total_carrier / total_outcomes\n",
    "\n",
    "    return results\n",
    "\n",
    "\n",
    "# ========== 程式主流程：取得輸入並顯示結果 ==========\n",
    "# Main script: get input and display result\n",
    "\n",
    "# 提示使用者輸入母親與父親的表現型\n",
    "# Ask user to input phenotypes\n",
    "mother = input(\"請輸入母親的表現型（正常/帶因者/蠶豆症）：\")\n",
    "father = input(\"請輸入父親的表現型（正常/蠶豆症）：\")\n",
    "\n",
    "# 呼叫主函數進行風險計算\n",
    "# Call function to calculate risk\n",
    "risk = calculate_g6pd_risk(mother, father)\n",
    "\n",
    "# 根據結果印出詳細說明\n",
    "# Print result based on calculation\n",
    "if \"error\" in risk:\n",
    "    print(risk[\"error\"])\n",
    "else:\n",
    "    print(\"\\n子孫罹患蠶豆症的預估比例：\")\n",
    "    print(\"Estimated G6PD Deficiency Risk in Offspring:\")\n",
    "    print(\"--------------------\")\n",
    "    print(\"男性 / Male:\")\n",
    "    print(f\"  正常 / Normal: {risk['男性'].get('正常比例', 0.0):.2%}\")\n",
    "    print(f\"  蠶豆症 / Affected: {risk['男性'].get('蠶豆症比例', 0.0):.2%}\")\n",
    "    print(\"女性 / Female:\")\n",
    "    print(f\"  正常 / Normal: {risk['女性'].get('正常比例', 0.0):.2%}\")\n",
    "    print(f\"  帶因者 / Carrier: {risk['女性'].get('帶因比例', 0.0):.2%}\")\n",
    "    print(f\"  蠶豆症 / Affected: {risk['女性'].get('蠶豆症比例', 0.0):.2%}\")\n",
    "    print(\"--------------------\")\n",
    "    print(f\"總體罹患蠶豆症比例 / Overall Affected Rate: {risk.get('總體罹患比例', 0.0):.2%}\")\n",
    "    print(f\"總體帶因比例 (女性) / Overall Carrier Rate (Female): {risk.get('總體帶因比例', 0.0):.2%}\")"
   ]
  }
 ],
 "metadata": {
  "kernelspec": {
   "display_name": "base",
   "language": "python",
   "name": "python3"
  },
  "language_info": {
   "codemirror_mode": {
    "name": "ipython",
    "version": 3
   },
   "file_extension": ".py",
   "mimetype": "text/x-python",
   "name": "python",
   "nbconvert_exporter": "python",
   "pygments_lexer": "ipython3",
   "version": "3.12.9"
  }
 },
 "nbformat": 4,
 "nbformat_minor": 5
}
