{
 "cells": [
  {
   "cell_type": "code",
   "execution_count": null,
   "id": "98402369",
   "metadata": {},
   "outputs": [],
   "source": [
    "import requests\n",
    "from requests import Response\n",
    "from requests import HTTPError,ConnectionError,Timeout,RequestException\n",
    "\n",
    "url:str = 'https://www.moeaea.gov.tw/ECW/populace/opendata/wHandOpenData_File.ashx?set_id=252'\n",
    "headers = {\n",
    "    'User-Agent': 'Mozilla/5.0 (Macintosh; Intel Mac OS X 10_15_7) AppleWebKit/537.36 (KHTML, like Gecko) Chrome/137.0.0.0 Safari/537.36'\n",
    "}\n",
    "try:\n",
    "    response:Response = requests.get(url,headers=headers)\n",
    "    response.raise_for_status()\n",
    "except HTTPError:\n",
    "    print(f\"警告：伺服器回應狀態碼為 {response.status_code}，請求未成功！\")\n",
    "except ConnectionError:\n",
    "    print(\"網路連線異常，請檢查網路設定。\")\n",
    "except Timeout:\n",
    "    print(\"請求逾時，請稍後再試。\")\n",
    "except RequestException as e:\n",
    "    print(f\"請求發生錯誤：{e}\")\n",
    "except Exception:\n",
    "    print(\"不知名的錯誤\")\n",
    "else:\n",
    "    print(\"下載成功\")\n",
    "    content:str = response.text"
   ]
  }
 ],
 "metadata": {
  "kernelspec": {
   "display_name": "base",
   "language": "python",
   "name": "python3"
  },
  "language_info": {
   "codemirror_mode": {
    "name": "ipython",
    "version": 3
   },
   "file_extension": ".py",
   "mimetype": "text/x-python",
   "name": "python",
   "nbconvert_exporter": "python",
   "pygments_lexer": "ipython3",
   "version": "3.12.9"
  }
 },
 "nbformat": 4,
 "nbformat_minor": 5
}
