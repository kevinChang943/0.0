{
 "cells": [
  {
   "cell_type": "code",
   "execution_count": 8,
   "id": "0c3770d7",
   "metadata": {},
   "outputs": [
    {
     "name": "stdout",
     "output_type": "stream",
     "text": [
      "C\n"
     ]
    }
   ],
   "source": [
    "scores=int(input(\"請輸入成績\"))\n",
    "if scores <60:\n",
    "    print(\"F\")\n",
    "elif scores<70:\n",
    "    print(\"D\")\n",
    "elif scores<80:\n",
    "    print(\"C\")\n",
    "elif scores<90:\n",
    "    print(\"B\")\n",
    "else:\n",
    "    print(\"A\")"
   ]
  },
  {
   "cell_type": "code",
   "execution_count": null,
   "id": "12bf418d",
   "metadata": {},
   "outputs": [
    {
     "name": "stdout",
     "output_type": "stream",
     "text": [
      "沒錢\n"
     ]
    }
   ],
   "source": [
    "chinese=int(input(\"請輸入國文成績\"))\n",
    "math=int(input(\"請輸入數學成績\"))\n",
    "if chinese==100 and math==100:\n",
    "    print(\"獎金1000\")\n",
    "elif chinese==100 or math==100:\n",
    "    print(\"獎金500\")\n",
    "else:\n",
    "    print(\"沒錢\")"
   ]
  },
  {
   "cell_type": "code",
   "execution_count": 14,
   "id": "f7af0e4c",
   "metadata": {},
   "outputs": [
    {
     "name": "stdout",
     "output_type": "stream",
     "text": [
      "1\n",
      "2\n",
      "3\n",
      "4\n"
     ]
    }
   ],
   "source": [
    "for i in range(1, 5):\n",
    "    print(i)"
   ]
  },
  {
   "cell_type": "code",
   "execution_count": 15,
   "id": "1bf326a5",
   "metadata": {},
   "outputs": [
    {
     "name": "stdout",
     "output_type": "stream",
     "text": [
      "0\n",
      "1\n",
      "2\n",
      "3\n",
      "4\n",
      "5\n",
      "6\n",
      "7\n",
      "8\n",
      "9\n"
     ]
    }
   ],
   "source": [
    "for i in range(10):\n",
    "    print(i)"
   ]
  },
  {
   "cell_type": "code",
   "execution_count": 18,
   "id": "d9bb887a",
   "metadata": {},
   "outputs": [
    {
     "name": "stdout",
     "output_type": "stream",
     "text": [
      "1\n",
      "4\n",
      "7\n",
      "10\n",
      "13\n",
      "16\n",
      "19\n",
      "22\n",
      "25\n",
      "28\n",
      "31\n",
      "34\n",
      "37\n",
      "40\n",
      "43\n",
      "46\n",
      "49\n",
      "52\n",
      "55\n",
      "58\n",
      "61\n",
      "64\n",
      "67\n",
      "70\n",
      "73\n",
      "76\n",
      "79\n",
      "82\n",
      "85\n",
      "88\n",
      "91\n",
      "94\n",
      "97\n",
      "100\n",
      "103\n",
      "106\n",
      "109\n"
     ]
    }
   ],
   "source": [
    "for i in range(1,111,3):\n",
    "    print(i)"
   ]
  },
  {
   "cell_type": "code",
   "execution_count": 19,
   "id": "f62b6ff1",
   "metadata": {},
   "outputs": [
    {
     "name": "stdout",
     "output_type": "stream",
     "text": [
      "total=15\n"
     ]
    }
   ],
   "source": [
    "n = int(input('請輸入n的值'))\n",
    "total = 0\n",
    "for i in range(1,n+1):\n",
    "    total += i\n",
    "\n",
    "print(f\"total={total}\")"
   ]
  },
  {
   "cell_type": "code",
   "execution_count": 22,
   "id": "05236996",
   "metadata": {},
   "outputs": [
    {
     "name": "stdout",
     "output_type": "stream",
     "text": [
      "pyan=2016\n"
     ]
    }
   ],
   "source": [
    "n=int(input(\"請輸入數字\"))\n",
    "pyan=0\n",
    "for i in range(1,n**2):\n",
    "    pyan+=i\n",
    "print(f\"pyan={pyan}\")"
   ]
  },
  {
   "cell_type": "code",
   "execution_count": 36,
   "id": "df27aaac",
   "metadata": {},
   "outputs": [
    {
     "name": "stdout",
     "output_type": "stream",
     "text": [
      "i=1\n",
      "j=1 j=2 j=3 j=4 j=5 j=6 j=7 j=8 j=9 \n",
      "i=2\n",
      "j=1 j=2 j=3 j=4 j=5 j=6 j=7 j=8 j=9 \n",
      "i=3\n",
      "j=1 j=2 j=3 j=4 j=5 j=6 j=7 j=8 j=9 \n",
      "i=4\n",
      "j=1 j=2 j=3 j=4 j=5 j=6 j=7 j=8 j=9 \n",
      "i=5\n",
      "j=1 j=2 j=3 j=4 j=5 j=6 j=7 j=8 j=9 \n",
      "i=6\n",
      "j=1 j=2 j=3 j=4 j=5 j=6 j=7 j=8 j=9 \n",
      "i=7\n",
      "j=1 j=2 j=3 j=4 j=5 j=6 j=7 j=8 j=9 \n",
      "i=8\n",
      "j=1 j=2 j=3 j=4 j=5 j=6 j=7 j=8 j=9 \n",
      "i=9\n",
      "j=1 j=2 j=3 j=4 j=5 j=6 j=7 j=8 j=9 \n"
     ]
    }
   ],
   "source": [
    "for i in range(1,10):\n",
    "    print(f\"i={i}\")\n",
    "    for j in range(1,10):\n",
    "        print(f\"j={j}\",end=\" \")\n",
    "    print()"
   ]
  },
  {
   "cell_type": "code",
   "execution_count": 31,
   "id": "ce1b7a71",
   "metadata": {},
   "outputs": [
    {
     "name": "stdout",
     "output_type": "stream",
     "text": [
      "i=1\n",
      "j=1 j=2 j=3 j=4 j=5 j=6 j=7 j=8 j=9 \n",
      "i=2\n",
      "j=1 j=2 j=3 j=4 j=5 j=6 j=7 j=8 j=9 \n",
      "i=3\n",
      "j=1 j=2 j=3 j=4 j=5 j=6 j=7 j=8 j=9 \n",
      "i=4\n",
      "j=1 j=2 j=3 j=4 j=5 j=6 j=7 j=8 j=9 \n",
      "i=5\n",
      "j=1 j=2 j=3 j=4 j=5 j=6 j=7 j=8 j=9 \n",
      "i=6\n",
      "j=1 j=2 j=3 j=4 j=5 j=6 j=7 j=8 j=9 \n",
      "i=7\n",
      "j=1 j=2 j=3 j=4 j=5 j=6 j=7 j=8 j=9 \n",
      "i=8\n",
      "j=1 j=2 j=3 j=4 j=5 j=6 j=7 j=8 j=9 \n",
      "i=9\n",
      "j=1 j=2 j=3 j=4 j=5 j=6 j=7 j=8 j=9 \n"
     ]
    }
   ],
   "source": [
    "for i in range(1,10):\n",
    "    print(f\"i={i}\")\n",
    "    for j in range(1,10):\n",
    "        print(f'j={j}',end=' ')\n",
    "    print()"
   ]
  },
  {
   "cell_type": "code",
   "execution_count": 17,
   "id": "fd660a92",
   "metadata": {},
   "outputs": [
    {
     "name": "stdout",
     "output_type": "stream",
     "text": [
      "存款:53562,已經存了5個月\n"
     ]
    }
   ],
   "source": [
    "deposite=0\n",
    "month=0\n",
    "while(deposite<30000):\n",
    "    month+=1\n",
    "    input_value=int(input(\"本月存款\"))\n",
    "    deposite+=input_value\n",
    "\n",
    "print(f\"存款:{deposite},已經存了{month}個月\")"
   ]
  },
  {
   "cell_type": "code",
   "execution_count": 22,
   "id": "141fa8bb",
   "metadata": {},
   "outputs": [
    {
     "name": "stdout",
     "output_type": "stream",
     "text": [
      "恭喜!已經存了0個月,總共存了53562元\n"
     ]
    }
   ],
   "source": [
    "eposite = 0\n",
    "month = 0\n",
    "while(deposite<30000):\n",
    "    month += 1\n",
    "    input_value = int(input(f\"請輸入第{month}月份的存款\"))\n",
    "    deposite += input_value\n",
    "\n",
    "print(f\"恭喜!已經存了{month}個月,總共存了{deposite}元\")"
   ]
  },
  {
   "cell_type": "code",
   "execution_count": 4,
   "id": "026c9dd9",
   "metadata": {},
   "outputs": [
    {
     "name": "stdout",
     "output_type": "stream",
     "text": [
      "=============猜數字遊戲===========\n",
      "\n",
      "再大一點\n",
      "您已經猜了1次\n",
      "請輸入提示範圍內的數字\n",
      "再小一點\n",
      "您已經猜了3次\n",
      "再小一點\n",
      "您已經猜了4次\n",
      "再大一點\n",
      "您已經猜了5次\n",
      "再大一點\n",
      "您已經猜了6次\n",
      "再大一點\n",
      "您已經猜了7次\n",
      "再大一點\n",
      "您已經猜了8次\n",
      "再大一點\n",
      "您已經猜了9次\n",
      "賓果!猜對了, 答案是:54\n",
      "您猜了10次\n",
      "遊戲結束\n"
     ]
    }
   ],
   "source": [
    "import random\n",
    "\n",
    "min = 1\n",
    "max = 99\n",
    "count = 0\n",
    "target = random.randint(min, max)\n",
    "#print(target)\n",
    "print(\"=============猜數字遊戲===========\\n\");\n",
    "while(True):\n",
    "    count += 1\n",
    "    keyin = int(input(f\"猜數字範圍{min}~{max}:\"))\n",
    "    if(keyin >= min and keyin <= max):\n",
    "        if(keyin == target):\n",
    "            print(f\"賓果!猜對了, 答案是:{target}\")\n",
    "            print(f\"您猜了{count}次\")\n",
    "            break\n",
    "        elif(keyin>target):\n",
    "            print(\"再小一點\")\n",
    "            max = keyin - 1\n",
    "        elif(keyin<target):\n",
    "            print(\"再大一點\")\n",
    "            min = keyin + 1\n",
    "        print(f\"您已經猜了{count}次\") \n",
    "    else:\n",
    "        print(\"請輸入提示範圍內的數字\")\n",
    "\n",
    "print(\"遊戲結束\")"
   ]
  },
  {
   "cell_type": "code",
   "execution_count": null,
   "id": "6afdec09",
   "metadata": {},
   "outputs": [],
   "source": [
    "value=int(input(\"請輸入金額\"))\n",
    "if value>=100000:\n",
    "    print(\"10年\")\n",
    "    elif value<100000 and value>=50000:\n",
    "        print(\"5年\")\n",
    "    elif value<50000 and value>=10000:\n",
    "        print(\"1年\")\n",
    "    elif value<10000 and value>0:\n",
    "        print(\"口頭教育\")\n",
    "    else:\n",
    "        print(\"屁事沒有\")"
   ]
  }
 ],
 "metadata": {
  "kernelspec": {
   "display_name": "base",
   "language": "python",
   "name": "python3"
  },
  "language_info": {
   "codemirror_mode": {
    "name": "ipython",
    "version": 3
   },
   "file_extension": ".py",
   "mimetype": "text/x-python",
   "name": "python",
   "nbconvert_exporter": "python",
   "pygments_lexer": "ipython3",
   "version": "3.12.9"
  }
 },
 "nbformat": 4,
 "nbformat_minor": 5
}
