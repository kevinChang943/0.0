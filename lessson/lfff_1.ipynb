{
 "cells": [
  {
   "cell_type": "code",
   "execution_count": null,
   "id": "16db74eb",
   "metadata": {},
   "outputs": [
    {
     "name": "stdout",
     "output_type": "stream",
     "text": [
      "=== 發電量輸入程式 ===\n",
      "風力發電量最高：5655.0 kWh\n",
      "很棒\n"
     ]
    }
   ],
   "source": [
    "def get_input(name):\n",
    "    while True:\n",
    "        try:\n",
    "            value = float(input(f\"請輸入{name}發電量（kWh）：\"))\n",
    "            return value\n",
    "        except ValueError:\n",
    "            print(\"請輸入數字。\")\n",
    "\n",
    "def main():\n",
    "    print(\"=== 發電量輸入程式 ===\")\n",
    "    \n",
    "    # 取得三種發電量輸入\n",
    "    solar = get_input(\"太陽能\")\n",
    "    thermal = get_input(\"火力\")\n",
    "    wind = get_input(\"風力\")\n",
    "\n",
    "    # 比較最大值\n",
    "    max_value = max(solar, thermal, wind)\n",
    "    \n",
    "    # 找出最大者\n",
    "    if solar == max_value:\n",
    "        best = \"太陽能\"\n",
    "    elif thermal == max_value:\n",
    "        best = \"火力\"\n",
    "    else:\n",
    "        best = \"風力\"\n",
    "    \n",
    "    print(f\"{best}發電量最高：{max_value} kWh\")\n",
    "    \n",
    "    # 輸出評價\n",
    "    if max_value >= 1000:\n",
    "        print(\"很棒\")\n",
    "    else:\n",
    "        print(\"遜\")\n",
    "\n",
    "if __name__ == \"__main__\":\n",
    "    main()\n"
   ]
  },
  {
   "cell_type": "code",
   "execution_count": null,
   "id": "01f7cab6",
   "metadata": {},
   "outputs": [
    {
     "name": "stdout",
     "output_type": "stream",
     "text": [
      "重量:55\n",
      "身高:1.2\n",
      "BMI:38.19444444444444\n"
     ]
    }
   ],
   "source": [
    "kg=eval(input(\"請輸入體重\"))\n",
    "m=eval(input(\"請輸入身高\"))\n",
    "BMI=(kg/m**2)\n",
    "print(f\"重量:{kg}\")\n",
    "print(f\"身高:{m}\")\n",
    "print(f\"BMI:{BMI}\")"
   ]
  },
  {
   "cell_type": "code",
   "execution_count": null,
   "id": "35143486",
   "metadata": {},
   "outputs": [],
   "source": [
    "def get_valid_input(prompt, min_value, max_value):\n",
    "    while True:\n",
    "        try:\n",
    "            value = float(input(prompt))\n",
    "            if value < min_value or value > max_value:\n",
    "                raise ValueError(f\"輸入值必須在 {min_value} 到 {max_value} 之間。\")\n",
    "            return value\n",
    "        except ValueError as e:\n",
    "            print(e)\n",
    "\n",
    "def calculate_bmi():\n",
    "    print(\"=== BMI 計算程式 ===\")\n",
    "    height = get_valid_input(\"請輸入身高（cm，120~220）：\", 120, 220) / 100  # 轉換為公尺\n",
    "    weight = get_valid_input(\"請輸入體重（kg，30~200）：\", 30, 200)\n",
    "    bmi = weight / (height ** 2)\n",
    "    print(f\"身高: {height * 100:.1f} cm\")\n",
    "    print(f\"體重: {weight:.1f} kg\")\n",
    "    print(f\"BMI: {bmi:.2f}\")\n",
    "\n",
    "calculate_bmi()"
   ]
  },
  {
   "cell_type": "code",
   "execution_count": 2,
   "id": "45d5bd23",
   "metadata": {},
   "outputs": [
    {
     "ename": "SyntaxError",
     "evalue": "'return' outside function (141165880.py, line 6)",
     "output_type": "error",
     "traceback": [
      "  \u001b[36mCell\u001b[39m\u001b[36m \u001b[39m\u001b[32mIn[2]\u001b[39m\u001b[32m, line 6\u001b[39m\n\u001b[31m    \u001b[39m\u001b[31mreturn value\u001b[39m\n    ^\n\u001b[31mSyntaxError\u001b[39m\u001b[31m:\u001b[39m 'return' outside function\n"
     ]
    }
   ],
   "source": [
    "while True:\n",
    "        try:\n",
    "            value = float(input(prompt))\n",
    "            if value < min_value or value > max_value:\n",
    "                raise ValueError(f\"輸入值必須在 {min_value} 到 {max_value} 之間。\")\n",
    "            return value\n",
    "        except ValueError as e:\n",
    "            print(e)\n",
    "\n",
    "def calculate_bmi():\n",
    "    print(\"=== BMI 計算程式 ===\")\n",
    "    height = get_valid_input(\"請輸入身高（cm，120~220）：\", 120, 220) / 100  # 轉換為公尺\n",
    "    weight = get_valid_input(\"請輸入體重（kg，30~200）：\", 30, 200)\n",
    "    bmi = weight / (height ** 2)\n",
    "    print(f\"身高: {height * 100:.1f} cm\")\n",
    "    print(f\"體重: {weight:.1f} kg\")\n",
    "    print(f\"BMI: {bmi:.2f}\")\n",
    "\n",
    "calculate_bmi()"
   ]
  },
  {
   "cell_type": "code",
   "execution_count": 47,
   "id": "48088ecd",
   "metadata": {},
   "outputs": [
    {
     "name": "stdout",
     "output_type": "stream",
     "text": [
      "體重輸入錯誤需在30~200\n"
     ]
    }
   ],
   "source": [
    "try:\n",
    "      m=eval(input(\"請輸入身高(介於1.2到2.2之間)\"))\n",
    "      kg=eval(input(\"請輸入體重(介於30~200\")) \n",
    "      BMI=(kg/m**2)\n",
    "      if kg<30 or kg>200:\n",
    "         raise Exception(\"體重輸入錯誤需在30~200\")  \n",
    "      if m<1.2 or m>2.2:\n",
    "         raise Exception(\"身高輸入錯誤需在1.2~2.2\")\n",
    "except Exception as e:\n",
    "    print(e)\n",
    "else:\n",
    "    print(\"輸入正確\")\n",
    "    print(f\"重量:{kg}\")\n",
    "    print(f\"身高:{m}\")\n",
    "    print(f\"BMI:{BMI}\")"
   ]
  },
  {
   "cell_type": "code",
   "execution_count": null,
   "id": "37713623",
   "metadata": {},
   "outputs": [
    {
     "ename": "Exception",
     "evalue": "體重輸入錯誤需在30~200",
     "output_type": "error",
     "traceback": [
      "\u001b[31m---------------------------------------------------------------------------\u001b[39m\n",
      "\u001b[31mException\u001b[39m                                 Traceback (most recent call last)\n",
      "\u001b[36mCell\u001b[39m\u001b[36m \u001b[39m\u001b[32mIn[19]\u001b[39m\u001b[32m, line 6\u001b[39m\n",
      "\u001b[32m      4\u001b[39m BMI=(kg/m**\u001b[32m2\u001b[39m)\n",
      "\u001b[32m      5\u001b[39m \u001b[38;5;28;01mif\u001b[39;00m kg<\u001b[32m30\u001b[39m \u001b[38;5;129;01mor\u001b[39;00m kg>\u001b[32m200\u001b[39m:\n",
      "\u001b[32m----> \u001b[39m\u001b[32m6\u001b[39m      \u001b[38;5;28;01mraise\u001b[39;00m \u001b[38;5;167;01mException\u001b[39;00m(\u001b[33m\"\u001b[39m\u001b[33m體重輸入錯誤需在30~200\u001b[39m\u001b[33m\"\u001b[39m)   \n",
      "\u001b[32m      7\u001b[39m \u001b[38;5;28;01mif\u001b[39;00m m<\u001b[32m1.2\u001b[39m \u001b[38;5;129;01mor\u001b[39;00m m>\u001b[32m2.2\u001b[39m:\n",
      "\u001b[32m      8\u001b[39m      \u001b[38;5;28;01mraise\u001b[39;00m \u001b[38;5;167;01mException\u001b[39;00m(\u001b[33m\"\u001b[39m\u001b[33m身高輸入錯誤需在1.2~2.2\u001b[39m\u001b[33m\"\u001b[39m)\n",
      "\n",
      "\u001b[31mException\u001b[39m: 體重輸入錯誤需在30~200"
     ]
    }
   ],
   "source": [
    "try:\n",
    "    kg=eval(input(\"請輸入體重(介於30~200\"))\n",
    "    m=eval(input(\"請輸入身高(介於1.2到2.2之間)\"))\n",
    "    BMI=(kg/m**2)\n",
    "    if kg<30 or kg>200:\n",
    "         raise Exception(\"體重輸入錯誤需在30~200\")   \n",
    "    if m<1.2 or m>2.2:\n",
    "         raise Exception(\"身高輸入錯誤需在1.2~2.2\")\n",
    "except ValueError :\n",
    "    print(\"輸入錯誤\")\n",
    "except Exception as e:\n",
    "    print(e)\n"
   ]
  },
  {
   "cell_type": "code",
   "execution_count": null,
   "id": "202054b5",
   "metadata": {},
   "outputs": [
    {
     "name": "stdout",
     "output_type": "stream",
     "text": [
      "體重輸入錯誤需在30~200\n"
     ]
    }
   ],
   "source": [
    "try:\n",
    "    weight = float(input(\"請輸入您的體重(公斤):\"))\n",
    "    if weight<30 or weight>200:\n",
    "        raise Exception(\"體重輸入錯誤需在30~200\")\n",
    "    height = float(input(\"請輸入您的身高(公尺):\"))\n",
    "    if height<1.2 or height>2:\n",
    "        raise Exception(\"身高輸入錯誤需在1.2~2\")\n",
    "except ValueError:\n",
    "    print(\"輸入錯誤\")\n",
    "except Exception as e:\n",
    "    print(e)\n",
    "else:\n",
    "    BMI= weight/height**2\n",
    "    print(f\"您的體重為:{weight}公斤\")\n",
    "    print(f\"您的身高為:{height}公尺\")\n",
    "    print(f\"您的BMI為:{BMI:.2f}\")"
   ]
  },
  {
   "cell_type": "code",
   "execution_count": null,
   "id": "21d22554",
   "metadata": {},
   "outputs": [],
   "source": []
  }
 ],
 "metadata": {
  "kernelspec": {
   "display_name": "base",
   "language": "python",
   "name": "python3"
  },
  "language_info": {
   "codemirror_mode": {
    "name": "ipython",
    "version": 3
   },
   "file_extension": ".py",
   "mimetype": "text/x-python",
   "name": "python",
   "nbconvert_exporter": "python",
   "pygments_lexer": "ipython3",
   "version": "3.12.9"
  }
 },
 "nbformat": 4,
 "nbformat_minor": 5
}
