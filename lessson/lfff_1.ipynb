{
 "cells": [
  {
   "cell_type": "code",
   "execution_count": null,
   "id": "16db74eb",
   "metadata": {},
   "outputs": [
    {
     "name": "stdout",
     "output_type": "stream",
     "text": [
      "=== 發電量輸入程式 ===\n",
      "風力發電量最高：5655.0 kWh\n",
      "很棒\n"
     ]
    }
   ],
   "source": [
    "def get_input(name):\n",
    "    while True:\n",
    "        try:\n",
    "            value = float(input(f\"請輸入{name}發電量（kWh）：\"))\n",
    "            return value\n",
    "        except ValueError:\n",
    "            print(\"請輸入數字。\")\n",
    "\n",
    "def main():\n",
    "    print(\"=== 發電量輸入程式 ===\")\n",
    "    \n",
    "    # 取得三種發電量輸入\n",
    "    solar = get_input(\"太陽能\")\n",
    "    thermal = get_input(\"火力\")\n",
    "    wind = get_input(\"風力\")\n",
    "\n",
    "    # 比較最大值\n",
    "    max_value = max(solar, thermal, wind)\n",
    "    \n",
    "    # 找出最大者\n",
    "    if solar == max_value:\n",
    "        best = \"太陽能\"\n",
    "    elif thermal == max_value:\n",
    "        best = \"火力\"\n",
    "    else:\n",
    "        best = \"風力\"\n",
    "    \n",
    "    print(f\"{best}發電量最高：{max_value} kWh\")\n",
    "    \n",
    "    # 輸出評價\n",
    "    if max_value >= 1000:\n",
    "        print(\"很棒\")\n",
    "    else:\n",
    "        print(\"遜\")\n",
    "\n",
    "if __name__ == \"__main__\":\n",
    "    main()\n"
   ]
  },
  {
   "cell_type": "code",
   "execution_count": 6,
   "id": "01f7cab6",
   "metadata": {},
   "outputs": [
    {
     "name": "stdout",
     "output_type": "stream",
     "text": [
      "重量:55\n",
      "身高:1.2\n",
      "BMI:38.19444444444444\n"
     ]
    }
   ],
   "source": [
    "kg=eval(input(\"請輸入體重\"))\n",
    "m=eval(input(\"請輸入身高\"))\n",
    "BMI=(kg/m**2)\n",
    "print(f\"重量:{kg}\")\n",
    "print(f\"身高:{m}\")\n",
    "print(f\"BMI:{BMI}\")"
   ]
  },
  {
   "cell_type": "code",
   "execution_count": null,
   "id": "21d22554",
   "metadata": {},
   "outputs": [],
   "source": []
  }
 ],
 "metadata": {
  "kernelspec": {
   "display_name": "base",
   "language": "python",
   "name": "python3"
  },
  "language_info": {
   "codemirror_mode": {
    "name": "ipython",
    "version": 3
   },
   "file_extension": ".py",
   "mimetype": "text/x-python",
   "name": "python",
   "nbconvert_exporter": "python",
   "pygments_lexer": "ipython3",
   "version": "3.12.9"
  }
 },
 "nbformat": 4,
 "nbformat_minor": 5
}
