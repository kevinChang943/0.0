{
 "cells": [
  {
   "cell_type": "code",
   "execution_count": null,
   "id": "16db74eb",
   "metadata": {},
   "outputs": [
    {
     "name": "stdout",
     "output_type": "stream",
     "text": [
      "=== 發電量輸入程式 ===\n",
      "風力發電量最高：5655.0 kWh\n",
      "很棒\n"
     ]
    }
   ],
   "source": [
    "def get_input(name):\n",
    "    while True:\n",
    "        try:\n",
    "            value = float(input(f\"請輸入{name}發電量（kWh）：\"))\n",
    "            return value\n",
    "        except ValueError:\n",
    "            print(\"請輸入數字。\")\n",
    "\n",
    "def main():\n",
    "    print(\"=== 發電量輸入程式 ===\")\n",
    "    \n",
    "    # 取得三種發電量輸入\n",
    "    solar = get_input(\"太陽能\")\n",
    "    thermal = get_input(\"火力\")\n",
    "    wind = get_input(\"風力\")\n",
    "\n",
    "    # 比較最大值\n",
    "    max_value = max(solar, thermal, wind)\n",
    "    \n",
    "    # 找出最大者\n",
    "    if solar == max_value:\n",
    "        best = \"太陽能\"\n",
    "    elif thermal == max_value:\n",
    "        best = \"火力\"\n",
    "    else:\n",
    "        best = \"風力\"\n",
    "    \n",
    "    print(f\"{best}發電量最高：{max_value} kWh\")\n",
    "    \n",
    "    # 輸出評價\n",
    "    if max_value >= 1000:\n",
    "        print(\"很棒\")\n",
    "    else:\n",
    "        print(\"遜\")\n",
    "\n",
    "if __name__ == \"__main__\":\n",
    "    main()\n"
   ]
  },
  {
   "cell_type": "code",
   "execution_count": null,
   "id": "01f7cab6",
   "metadata": {},
   "outputs": [
    {
     "name": "stdout",
     "output_type": "stream",
     "text": [
      "重量:55\n",
      "身高:1.2\n",
      "BMI:38.19444444444444\n"
     ]
    }
   ],
   "source": [
    "kg=eval(input(\"請輸入體重\"))\n",
    "m=eval(input(\"請輸入身高\"))\n",
    "BMI=(kg/m**2)\n",
    "print(f\"重量:{kg}\")\n",
    "print(f\"身高:{m}\")\n",
    "print(f\"BMI:{BMI}\")"
   ]
  },
  {
   "cell_type": "code",
   "execution_count": null,
   "id": "35143486",
   "metadata": {},
   "outputs": [],
   "source": [
    "def get_valid_input(prompt, min_value, max_value):\n",
    "    while True:\n",
    "        try:\n",
    "            value = float(input(prompt))\n",
    "            if value < min_value or value > max_value:\n",
    "                raise ValueError(f\"輸入值必須在 {min_value} 到 {max_value} 之間。\")\n",
    "            return value\n",
    "        except ValueError as e:\n",
    "            print(e)\n",
    "\n",
    "def calculate_bmi():\n",
    "    print(\"=== BMI 計算程式 ===\")\n",
    "    height = get_valid_input(\"請輸入身高（cm，120~220）：\", 120, 220) / 100  # 轉換為公尺\n",
    "    weight = get_valid_input(\"請輸入體重（kg，30~200）：\", 30, 200)\n",
    "    bmi = weight / (height ** 2)\n",
    "    print(f\"身高: {height * 100:.1f} cm\")\n",
    "    print(f\"體重: {weight:.1f} kg\")\n",
    "    print(f\"BMI: {bmi:.2f}\")\n",
    "\n",
    "calculate_bmi()"
   ]
  },
  {
   "cell_type": "code",
   "execution_count": 2,
   "id": "45d5bd23",
   "metadata": {},
   "outputs": [
    {
     "ename": "SyntaxError",
     "evalue": "'return' outside function (141165880.py, line 6)",
     "output_type": "error",
     "traceback": [
      "  \u001b[36mCell\u001b[39m\u001b[36m \u001b[39m\u001b[32mIn[2]\u001b[39m\u001b[32m, line 6\u001b[39m\n\u001b[31m    \u001b[39m\u001b[31mreturn value\u001b[39m\n    ^\n\u001b[31mSyntaxError\u001b[39m\u001b[31m:\u001b[39m 'return' outside function\n"
     ]
    }
   ],
   "source": [
    "while True:\n",
    "        try:\n",
    "            value = float(input(prompt))\n",
    "            if value < min_value or value > max_value:\n",
    "                raise ValueError(f\"輸入值必須在 {min_value} 到 {max_value} 之間。\")\n",
    "            return value\n",
    "        except ValueError as e:\n",
    "            print(e)\n",
    "\n",
    "def calculate_bmi():\n",
    "    print(\"=== BMI 計算程式 ===\")\n",
    "    height = get_valid_input(\"請輸入身高（cm，120~220）：\", 120, 220) / 100  # 轉換為公尺\n",
    "    weight = get_valid_input(\"請輸入體重（kg，30~200）：\", 30, 200)\n",
    "    bmi = weight / (height ** 2)\n",
    "    print(f\"身高: {height * 100:.1f} cm\")\n",
    "    print(f\"體重: {weight:.1f} kg\")\n",
    "    print(f\"BMI: {bmi:.2f}\")\n",
    "\n",
    "calculate_bmi()"
   ]
  },
  {
   "cell_type": "code",
   "execution_count": 47,
   "id": "48088ecd",
   "metadata": {},
   "outputs": [
    {
     "name": "stdout",
     "output_type": "stream",
     "text": [
      "體重輸入錯誤需在30~200\n"
     ]
    }
   ],
   "source": [
    "try:\n",
    "      m=eval(input(\"請輸入身高(介於1.2到2.2之間)\"))\n",
    "      kg=eval(input(\"請輸入體重(介於30~200\")) \n",
    "      BMI=(kg/m**2)\n",
    "      if kg<30 or kg>200:\n",
    "         raise Exception(\"體重輸入錯誤需在30~200\")  \n",
    "      if m<1.2 or m>2.2:\n",
    "         raise Exception(\"身高輸入錯誤需在1.2~2.2\")\n",
    "except Exception as e:\n",
    "    print(e)\n",
    "else:\n",
    "    print(\"輸入正確\")\n",
    "    print(f\"重量:{kg}\")\n",
    "    print(f\"身高:{m}\")\n",
    "    print(f\"BMI:{BMI}\")"
   ]
  },
  {
   "cell_type": "code",
   "execution_count": null,
   "id": "37713623",
   "metadata": {},
   "outputs": [
    {
     "ename": "Exception",
     "evalue": "體重輸入錯誤需在30~200",
     "output_type": "error",
     "traceback": [
      "\u001b[31m---------------------------------------------------------------------------\u001b[39m\n",
      "\u001b[31mException\u001b[39m                                 Traceback (most recent call last)\n",
      "\u001b[36mCell\u001b[39m\u001b[36m \u001b[39m\u001b[32mIn[19]\u001b[39m\u001b[32m, line 6\u001b[39m\n",
      "\u001b[32m      4\u001b[39m BMI=(kg/m**\u001b[32m2\u001b[39m)\n",
      "\u001b[32m      5\u001b[39m \u001b[38;5;28;01mif\u001b[39;00m kg<\u001b[32m30\u001b[39m \u001b[38;5;129;01mor\u001b[39;00m kg>\u001b[32m200\u001b[39m:\n",
      "\u001b[32m----> \u001b[39m\u001b[32m6\u001b[39m      \u001b[38;5;28;01mraise\u001b[39;00m \u001b[38;5;167;01mException\u001b[39;00m(\u001b[33m\"\u001b[39m\u001b[33m體重輸入錯誤需在30~200\u001b[39m\u001b[33m\"\u001b[39m)   \n",
      "\u001b[32m      7\u001b[39m \u001b[38;5;28;01mif\u001b[39;00m m<\u001b[32m1.2\u001b[39m \u001b[38;5;129;01mor\u001b[39;00m m>\u001b[32m2.2\u001b[39m:\n",
      "\u001b[32m      8\u001b[39m      \u001b[38;5;28;01mraise\u001b[39;00m \u001b[38;5;167;01mException\u001b[39;00m(\u001b[33m\"\u001b[39m\u001b[33m身高輸入錯誤需在1.2~2.2\u001b[39m\u001b[33m\"\u001b[39m)\n",
      "\n",
      "\u001b[31mException\u001b[39m: 體重輸入錯誤需在30~200"
     ]
    }
   ],
   "source": [
    "try:\n",
    "    kg=eval(input(\"請輸入體重(介於30~200\"))\n",
    "    m=eval(input(\"請輸入身高(介於1.2到2.2之間)\"))\n",
    "    BMI=(kg/m**2)\n",
    "    if kg<30 or kg>200:\n",
    "         raise Exception(\"體重輸入錯誤需在30~200\")   \n",
    "    if m<1.2 or m>2.2:\n",
    "         raise Exception(\"身高輸入錯誤需在1.2~2.2\")\n",
    "except ValueError :\n",
    "    print(\"輸入錯誤\")\n",
    "except Exception as e:\n",
    "    print(e)\n"
   ]
  },
  {
   "cell_type": "code",
   "execution_count": null,
   "id": "202054b5",
   "metadata": {},
   "outputs": [
    {
     "name": "stdout",
     "output_type": "stream",
     "text": [
      "體重輸入錯誤需在30~200\n"
     ]
    }
   ],
   "source": [
    "try:\n",
    "    weight = float(input(\"請輸入您的體重(公斤):\"))\n",
    "    if weight<30 or weight>200:\n",
    "        raise Exception(\"體重輸入錯誤需在30~200\")\n",
    "    height = float(input(\"請輸入您的身高(公尺):\"))\n",
    "    if height<1.2 or height>2:\n",
    "        raise Exception(\"身高輸入錯誤需在1.2~2\")\n",
    "except ValueError:\n",
    "    print(\"輸入錯誤\")\n",
    "except Exception as e:\n",
    "    print(e)\n",
    "else:\n",
    "    BMI= weight/height**2\n",
    "    print(f\"您的體重為:{weight}公斤\")\n",
    "    print(f\"您的身高為:{height}公尺\")\n",
    "    print(f\"您的BMI為:{BMI:.2f}\")"
   ]
  },
  {
   "cell_type": "code",
   "execution_count": null,
   "id": "21d22554",
   "metadata": {},
   "outputs": [],
   "source": []
  },
  {
   "cell_type": "code",
   "execution_count": 2,
   "id": "815bf021",
   "metadata": {},
   "outputs": [
    {
     "name": "stdout",
     "output_type": "stream",
     "text": [
      "\n",
      "子孫罹患蠶豆症的預估比例：\n",
      "--------------------\n",
      "男性:\n",
      "  正常: 100.00%\n",
      "  蠶豆症: 0.00%\n",
      "女性:\n",
      "  正常: 100.00%\n",
      "  帶因者: 0.00%\n",
      "  蠶豆症: 0.00%\n",
      "--------------------\n",
      "總體罹患蠶豆症比例: 0.00%\n",
      "總體帶因比例 (女性): 0.00%\n"
     ]
    }
   ],
   "source": [
    "def calculate_g6pd_risk(mother_phenotype, father_phenotype):\n",
    "    \"\"\"\n",
    "    根據父母的表現型計算子孫罹患蠶豆症 (G6PD 缺乏症) 的比例。\n",
    "\n",
    "    蠶豆症是一個 X 染色體連鎖的隱性遺傳疾病。\n",
    "\n",
    "    Args:\n",
    "        mother_phenotype (str): 母親的表現型 ('正常', '帶因者', '蠶豆症')。\n",
    "        father_phenotype (str): 父親的表現型 ('正常', '蠶豆症')。\n",
    "\n",
    "    Returns:\n",
    "        dict: 包含後代不同性別和罹患狀態比例的字典。\n",
    "    \"\"\"\n",
    "    # 定義基因型\n",
    "    # G: 正常基因, g: 蠶豆症基因\n",
    "    # 女性: XX, 基因型可能是 GG (正常), Gg (帶因者), gg (蠶豆症)\n",
    "    # 男性: XY, 基因型可能是 GY (正常), gY (蠶豆症)\n",
    "\n",
    "    # 將表現型轉換為可能的基因型組合\n",
    "    mother_genotypes = []\n",
    "    if mother_phenotype == '正常':\n",
    "        mother_genotypes = ['GG']\n",
    "    elif mother_phenotype == '帶因者':\n",
    "        mother_genotypes = ['Gg']\n",
    "    elif mother_phenotype == '蠶豆症':\n",
    "        mother_genotypes = ['gg']\n",
    "    else:\n",
    "        return {\"error\": \"母親表現型輸入無效\"}\n",
    "\n",
    "    father_genotypes = []\n",
    "    if father_phenotype == '正常':\n",
    "        father_genotypes = ['GY']\n",
    "    elif father_phenotype == '蠶豆症':\n",
    "        father_genotypes = ['gY']\n",
    "    else:\n",
    "        return {\"error\": \"父親表現型輸入無效\"}\n",
    "\n",
    "    # 計算所有可能的子代基因型組合\n",
    "    offspring_outcomes = {\n",
    "        '男性': {'正常': 0, '蠶豆症': 0},\n",
    "        '女性': {'正常': 0, '帶因者': 0, '蠶豆症': 0}\n",
    "    }\n",
    "    total_outcomes = 0\n",
    "\n",
    "    for m_genotype in mother_genotypes:\n",
    "        for f_genotype in father_genotypes:\n",
    "            # 考慮所有可能的配子組合\n",
    "            mother_gametes = [m_genotype[0], m_genotype[1]]\n",
    "            father_gametes = [f_genotype[0], f_genotype[1]] # 通常 Y 表示性別染色體，基因型只看 X\n",
    "\n",
    "            for m_gamete in mother_gametes:\n",
    "                for f_gamete in father_gametes:\n",
    "                    total_outcomes += 1\n",
    "                    # 子代的基因型組合\n",
    "                    offspring_genotype = m_gamete + f_gamete\n",
    "\n",
    "                    # 判斷子代的性別和表現型\n",
    "                    if 'Y' in offspring_genotype: # 男性\n",
    "                        if 'g' in offspring_genotype:\n",
    "                            offspring_outcomes['男性']['蠶豆症'] += 1\n",
    "                        else:\n",
    "                            offspring_outcomes['男性']['正常'] += 1\n",
    "                    else: # 女性\n",
    "                        # 將基因按照 G 在前 g 在後的順序排序，方便判斷\n",
    "                        sorted_genotype = sorted(offspring_genotype)\n",
    "                        offspring_genotype_sorted_str = \"\".join(sorted_genotype)\n",
    "\n",
    "                        if offspring_genotype_sorted_str == 'gg':\n",
    "                            offspring_outcomes['女性']['蠶豆症'] += 1\n",
    "                        elif offspring_genotype_sorted_str == 'Gg':\n",
    "                            offspring_outcomes['女性']['帶因者'] += 1\n",
    "                        else: # GG\n",
    "                            offspring_outcomes['女性']['正常'] += 1\n",
    "\n",
    "    # 計算比例\n",
    "    results = {\n",
    "        '男性': {},\n",
    "        '女性': {},\n",
    "        '總體罹患比例': 0,\n",
    "        '總體帶因比例': 0\n",
    "    }\n",
    "\n",
    "    if total_outcomes > 0:\n",
    "        results['男性']['正常比例'] = offspring_outcomes['男性']['正常'] / (offspring_outcomes['男性']['正常'] + offspring_outcomes['男性']['蠶豆症']) if (offspring_outcomes['男性']['正常'] + offspring_outcomes['男性']['蠶豆症']) > 0 else 0\n",
    "        results['男性']['蠶豆症比例'] = offspring_outcomes['男性']['蠶豆症'] / (offspring_outcomes['男性']['正常'] + offspring_outcomes['男性']['蠶豆症']) if (offspring_outcomes['男性']['正常'] + offspring_outcomes['男性']['蠶豆症']) > 0 else 0\n",
    "\n",
    "        results['女性']['正常比例'] = offspring_outcomes['女性']['正常'] / (offspring_outcomes['女性']['正常'] + offspring_outcomes['女性']['帶因者'] + offspring_outcomes['女性']['蠶豆症']) if (offspring_outcomes['女性']['正常'] + offspring_outcomes['女性']['帶因者'] + offspring_outcomes['女性']['蠶豆症']) > 0 else 0\n",
    "        results['女性']['帶因比例'] = offspring_outcomes['女性']['帶因者'] / (offspring_outcomes['女性']['正常'] + offspring_outcomes['女性']['帶因者'] + offspring_outcomes['女性']['蠶豆症']) if (offspring_outcomes['女性']['正常'] + offspring_outcomes['女性']['帶因者'] + offspring_outcomes['女性']['蠶豆症']) > 0 else 0\n",
    "        results['女性']['蠶豆症比例'] = offspring_outcomes['女性']['蠶豆症'] / (offspring_outcomes['女性']['正常'] + offspring_outcomes['女性']['帶因者'] + offspring_outcomes['女性']['蠶豆症']) if (offspring_outcomes['女性']['正常'] + offspring_outcomes['女性']['帶因者'] + offspring_outcomes['女性']['蠶豆症']) > 0 else 0\n",
    "\n",
    "        # 總體罹患比例 (所有子代中罹患蠶豆症的比例)\n",
    "        total_affected = offspring_outcomes['男性']['蠶豆症'] + offspring_outcomes['女性']['蠶豆症']\n",
    "        results['總體罹患比例'] = total_affected / total_outcomes\n",
    "\n",
    "        # 總體帶因比例 (所有子代中女性帶因的比例)\n",
    "        total_carrier = offspring_outcomes['女性']['帶因者']\n",
    "        results['總體帶因比例'] = total_carrier / total_outcomes\n",
    "\n",
    "\n",
    "    return results\n",
    "\n",
    "# 範例用法：\n",
    "# 母親表現型可輸入：'正常', '帶因者', '蠶豆症'\n",
    "# 父親表現型可輸入：'正常', '蠶豆症'\n",
    "\n",
    "mother = input(\"請輸入母親的表現型（正常/帶因者/蠶豆症）：\")\n",
    "father = input(\"請輸入父親的表現型（正常/蠶豆症）：\")\n",
    "\n",
    "risk = calculate_g6pd_risk(mother, father)\n",
    "\n",
    "if \"error\" in risk:\n",
    "    print(risk[\"error\"])\n",
    "else:\n",
    "    print(\"\\n子孫罹患蠶豆症的預估比例：\")\n",
    "    print(\"--------------------\")\n",
    "    print(\"男性:\")\n",
    "    print(f\"  正常: {risk['男性'].get('正常比例', 0.0):.2%}\")\n",
    "    print(f\"  蠶豆症: {risk['男性'].get('蠶豆症比例', 0.0):.2%}\")\n",
    "    print(\"女性:\")\n",
    "    print(f\"  正常: {risk['女性'].get('正常比例', 0.0):.2%}\")\n",
    "    print(f\"  帶因者: {risk['女性'].get('帶因比例', 0.0):.2%}\")\n",
    "    print(f\"  蠶豆症: {risk['女性'].get('蠶豆症比例', 0.0):.2%}\")\n",
    "    print(\"--------------------\")\n",
    "    print(f\"總體罹患蠶豆症比例: {risk.get('總體罹患比例', 0.0):.2%}\")\n",
    "    print(f\"總體帶因比例 (女性): {risk.get('總體帶因比例', 0.0):.2%}\")\n"
   ]
  },
  {
   "cell_type": "code",
   "execution_count": 1,
   "id": "f0b2f4f9",
   "metadata": {},
   "outputs": [
    {
     "ename": "KeyboardInterrupt",
     "evalue": "Interrupted by user",
     "output_type": "error",
     "traceback": [
      "\u001b[31m---------------------------------------------------------------------------\u001b[39m",
      "\u001b[31mKeyboardInterrupt\u001b[39m                         Traceback (most recent call last)",
      "\u001b[36mCell\u001b[39m\u001b[36m \u001b[39m\u001b[32mIn[1]\u001b[39m\u001b[32m, line 140\u001b[39m\n\u001b[32m    132\u001b[39m     \u001b[38;5;28;01mreturn\u001b[39;00m results\n\u001b[32m    135\u001b[39m \u001b[38;5;66;03m# ========== 程式主流程：取得輸入並顯示結果 ==========\u001b[39;00m\n\u001b[32m    136\u001b[39m \u001b[38;5;66;03m# Main script: get input and display result\u001b[39;00m\n\u001b[32m    137\u001b[39m \n\u001b[32m    138\u001b[39m \u001b[38;5;66;03m# 提示使用者輸入母親與父親的表現型\u001b[39;00m\n\u001b[32m    139\u001b[39m \u001b[38;5;66;03m# Ask user to input phenotypes\u001b[39;00m\n\u001b[32m--> \u001b[39m\u001b[32m140\u001b[39m mother = \u001b[38;5;28;43minput\u001b[39;49m\u001b[43m(\u001b[49m\u001b[33;43m\"\u001b[39;49m\u001b[33;43m請輸入母親的表現型（正常/帶因者/蠶豆症）：\u001b[39;49m\u001b[33;43m\"\u001b[39;49m\u001b[43m)\u001b[49m\n\u001b[32m    141\u001b[39m father = \u001b[38;5;28minput\u001b[39m(\u001b[33m\"\u001b[39m\u001b[33m請輸入父親的表現型（正常/蠶豆症）：\u001b[39m\u001b[33m\"\u001b[39m)\n\u001b[32m    143\u001b[39m \u001b[38;5;66;03m# 呼叫主函數進行風險計算\u001b[39;00m\n\u001b[32m    144\u001b[39m \u001b[38;5;66;03m# Call function to calculate risk\u001b[39;00m\n",
      "\u001b[36mFile \u001b[39m\u001b[32m/opt/conda/lib/python3.12/site-packages/ipykernel/kernelbase.py:1282\u001b[39m, in \u001b[36mKernel.raw_input\u001b[39m\u001b[34m(self, prompt)\u001b[39m\n\u001b[32m   1280\u001b[39m     msg = \u001b[33m\"\u001b[39m\u001b[33mraw_input was called, but this frontend does not support input requests.\u001b[39m\u001b[33m\"\u001b[39m\n\u001b[32m   1281\u001b[39m     \u001b[38;5;28;01mraise\u001b[39;00m StdinNotImplementedError(msg)\n\u001b[32m-> \u001b[39m\u001b[32m1282\u001b[39m \u001b[38;5;28;01mreturn\u001b[39;00m \u001b[38;5;28;43mself\u001b[39;49m\u001b[43m.\u001b[49m\u001b[43m_input_request\u001b[49m\u001b[43m(\u001b[49m\n\u001b[32m   1283\u001b[39m \u001b[43m    \u001b[49m\u001b[38;5;28;43mstr\u001b[39;49m\u001b[43m(\u001b[49m\u001b[43mprompt\u001b[49m\u001b[43m)\u001b[49m\u001b[43m,\u001b[49m\n\u001b[32m   1284\u001b[39m \u001b[43m    \u001b[49m\u001b[38;5;28;43mself\u001b[39;49m\u001b[43m.\u001b[49m\u001b[43m_parent_ident\u001b[49m\u001b[43m[\u001b[49m\u001b[33;43m\"\u001b[39;49m\u001b[33;43mshell\u001b[39;49m\u001b[33;43m\"\u001b[39;49m\u001b[43m]\u001b[49m\u001b[43m,\u001b[49m\n\u001b[32m   1285\u001b[39m \u001b[43m    \u001b[49m\u001b[38;5;28;43mself\u001b[39;49m\u001b[43m.\u001b[49m\u001b[43mget_parent\u001b[49m\u001b[43m(\u001b[49m\u001b[33;43m\"\u001b[39;49m\u001b[33;43mshell\u001b[39;49m\u001b[33;43m\"\u001b[39;49m\u001b[43m)\u001b[49m\u001b[43m,\u001b[49m\n\u001b[32m   1286\u001b[39m \u001b[43m    \u001b[49m\u001b[43mpassword\u001b[49m\u001b[43m=\u001b[49m\u001b[38;5;28;43;01mFalse\u001b[39;49;00m\u001b[43m,\u001b[49m\n\u001b[32m   1287\u001b[39m \u001b[43m\u001b[49m\u001b[43m)\u001b[49m\n",
      "\u001b[36mFile \u001b[39m\u001b[32m/opt/conda/lib/python3.12/site-packages/ipykernel/kernelbase.py:1325\u001b[39m, in \u001b[36mKernel._input_request\u001b[39m\u001b[34m(self, prompt, ident, parent, password)\u001b[39m\n\u001b[32m   1322\u001b[39m \u001b[38;5;28;01mexcept\u001b[39;00m \u001b[38;5;167;01mKeyboardInterrupt\u001b[39;00m:\n\u001b[32m   1323\u001b[39m     \u001b[38;5;66;03m# re-raise KeyboardInterrupt, to truncate traceback\u001b[39;00m\n\u001b[32m   1324\u001b[39m     msg = \u001b[33m\"\u001b[39m\u001b[33mInterrupted by user\u001b[39m\u001b[33m\"\u001b[39m\n\u001b[32m-> \u001b[39m\u001b[32m1325\u001b[39m     \u001b[38;5;28;01mraise\u001b[39;00m \u001b[38;5;167;01mKeyboardInterrupt\u001b[39;00m(msg) \u001b[38;5;28;01mfrom\u001b[39;00m \u001b[38;5;28;01mNone\u001b[39;00m\n\u001b[32m   1326\u001b[39m \u001b[38;5;28;01mexcept\u001b[39;00m \u001b[38;5;167;01mException\u001b[39;00m:\n\u001b[32m   1327\u001b[39m     \u001b[38;5;28mself\u001b[39m.log.warning(\u001b[33m\"\u001b[39m\u001b[33mInvalid Message:\u001b[39m\u001b[33m\"\u001b[39m, exc_info=\u001b[38;5;28;01mTrue\u001b[39;00m)\n",
      "\u001b[31mKeyboardInterrupt\u001b[39m: Interrupted by user"
     ]
    }
   ],
   "source": [
    "# -*- coding: utf-8 -*-\n",
    "\"\"\"MidRep113B0616G3\n",
    "\n",
    "Automatically generated by Colab.\n",
    "\n",
    "Original file is located at\n",
    "    https://colab.research.google.com/drive/1Akt-zVbsFvd8dUTgwMZlq1Wbvpk3piia\n",
    "\"\"\"\n",
    "\n",
    "def calculate_g6pd_risk(mother_phenotype, father_phenotype):\n",
    "    \"\"\"\n",
    "    根據父母的表現型計算子孫罹患蠶豆症 (G6PD 缺乏症) 的比例。\n",
    "    Calculate the risk of offspring having G6PD deficiency based on parental phenotypes.\n",
    "\n",
    "    蠶豆症是一個 X 染色體連鎖的隱性遺傳疾病。\n",
    "    G6PD deficiency is an X-linked recessive genetic disorder.\n",
    "\n",
    "    Args:\n",
    "        mother_phenotype (str): 母親的表現型 ('正常', '帶因者', '蠶豆症')。\n",
    "                               Mother's phenotype ('Normal', 'Carrier', 'Affected')\n",
    "        father_phenotype (str): 父親的表現型 ('正常', '蠶豆症')。\n",
    "                               Father's phenotype ('Normal', 'Affected')\n",
    "\n",
    "    Returns:\n",
    "        dict: 包含後代不同性別和罹患狀態比例的字典。\n",
    "              Dictionary with risk proportions by gender and condition.\n",
    "    \"\"\"\n",
    "\n",
    "    # 定義母親的可能基因型（GG, Gg, gg）\n",
    "    # Define possible mother genotypes (GG, Gg, gg)\n",
    "    mother_genotypes = []\n",
    "    if mother_phenotype == '正常':  # Normal\n",
    "        mother_genotypes = ['GG']\n",
    "    elif mother_phenotype == '帶因者':  # Carrier\n",
    "        mother_genotypes = ['Gg']\n",
    "    elif mother_phenotype == '蠶豆症':  # Affected\n",
    "        mother_genotypes = ['gg']\n",
    "    else:\n",
    "        return {\"error\": \"母親表現型輸入無效\"}  # Invalid mother input\n",
    "\n",
    "    # 定義父親的可能基因型（GY, gY）\n",
    "    # Define possible father genotypes (GY, gY)\n",
    "    father_genotypes = []\n",
    "    if father_phenotype == '正常':  # Normal\n",
    "        father_genotypes = ['GY']\n",
    "    elif father_phenotype == '蠶豆症':  # Affected\n",
    "        father_genotypes = ['gY']\n",
    "    else:\n",
    "        return {\"error\": \"父親表現型輸入無效\"}  # Invalid father input\n",
    "\n",
    "    # 初始化子代結果的統計資料\n",
    "    # Initialize offspring outcome statistics\n",
    "    offspring_outcomes = {\n",
    "        '男性': {'正常': 0, '蠶豆症': 0},  # Males: Normal, Affected\n",
    "        '女性': {'正常': 0, '帶因者': 0, '蠶豆症': 0}  # Females: Normal, Carrier, Affected\n",
    "    }\n",
    "    total_outcomes = 0  # 子代總組合數 / Total number of offspring combinations\n",
    "\n",
    "    # 對每一組母親與父親基因型進行組合計算\n",
    "    # For each combination of mother and father genotype\n",
    "    for m_genotype in mother_genotypes:\n",
    "        for f_genotype in father_genotypes:\n",
    "            # 列出母親和父親的配子（各貢獻一個染色體）\n",
    "            # List gametes from each parent\n",
    "            mother_gametes = [m_genotype[0], m_genotype[1]]\n",
    "            father_gametes = [f_genotype[0], f_genotype[1]]\n",
    "\n",
    "            # 對所有可能配子組合進行交配模擬\n",
    "            # Simulate all possible gamete combinations\n",
    "            for m_gamete in mother_gametes:\n",
    "                for f_gamete in father_gametes:\n",
    "                    total_outcomes += 1  # 計算總組合次數 / Count total combinations\n",
    "                    offspring_genotype = m_gamete + f_gamete  # 子代基因型 / Offspring genotype\n",
    "\n",
    "                    # 判斷子代性別與其表現型\n",
    "                    # Determine sex and phenotype of offspring\n",
    "                    if 'Y' in offspring_genotype:  # 男性（XY）/ Male\n",
    "                        if 'g' in offspring_genotype:  # 有 g 表示有缺陷基因 / Has defective gene\n",
    "                            offspring_outcomes['男性']['蠶豆症'] += 1\n",
    "                        else:\n",
    "                            offspring_outcomes['男性']['正常'] += 1\n",
    "                    else:  # 女性（XX）/ Female\n",
    "                        # 排序基因使得 Gg 和 gG 統一成 Gg / Sort to normalize genotype representation\n",
    "                        sorted_genotype = sorted(offspring_genotype)\n",
    "                        offspring_genotype_sorted_str = \"\".join(sorted_genotype)\n",
    "\n",
    "                        if offspring_genotype_sorted_str == 'gg':\n",
    "                            offspring_outcomes['女性']['蠶豆症'] += 1\n",
    "                        elif offspring_genotype_sorted_str == 'Gg':\n",
    "                            offspring_outcomes['女性']['帶因者'] += 1\n",
    "                        else:  # GG\n",
    "                            offspring_outcomes['女性']['正常'] += 1\n",
    "\n",
    "    # 計算結果比例\n",
    "    # Calculate proportions\n",
    "    results = {\n",
    "        '男性': {},\n",
    "        '女性': {},\n",
    "        '總體罹患比例': 0,  # Overall affected rate\n",
    "        '總體帶因比例': 0   # Overall carrier rate (female only)\n",
    "    }\n",
    "\n",
    "    if total_outcomes > 0:\n",
    "        # 男性部分的比例計算 / Male risk proportion\n",
    "        results['男性']['正常比例'] = offspring_outcomes['男性']['正常'] / (\n",
    "            offspring_outcomes['男性']['正常'] + offspring_outcomes['男性']['蠶豆症']\n",
    "        ) if (offspring_outcomes['男性']['正常'] + offspring_outcomes['男性']['蠶豆症']) > 0 else 0\n",
    "\n",
    "        results['男性']['蠶豆症比例'] = offspring_outcomes['男性']['蠶豆症'] / (\n",
    "            offspring_outcomes['男性']['正常'] + offspring_outcomes['男性']['蠶豆症']\n",
    "        ) if (offspring_outcomes['男性']['正常'] + offspring_outcomes['男性']['蠶豆症']) > 0 else 0\n",
    "\n",
    "        # 女性部分的比例計算 / Female risk proportion\n",
    "        female_total = (\n",
    "            offspring_outcomes['女性']['正常'] +\n",
    "            offspring_outcomes['女性']['帶因者'] +\n",
    "            offspring_outcomes['女性']['蠶豆症']\n",
    "        )\n",
    "\n",
    "        results['女性']['正常比例'] = offspring_outcomes['女性']['正常'] / female_total if female_total > 0 else 0\n",
    "        results['女性']['帶因比例'] = offspring_outcomes['女性']['帶因者'] / female_total if female_total > 0 else 0\n",
    "        results['女性']['蠶豆症比例'] = offspring_outcomes['女性']['蠶豆症'] / female_total if female_total > 0 else 0\n",
    "\n",
    "        # 全部子代中罹患蠶豆症的比例 / Overall affected rate among all children\n",
    "        total_affected = offspring_outcomes['男性']['蠶豆症'] + offspring_outcomes['女性']['蠶豆症']\n",
    "        results['總體罹患比例'] = total_affected / total_outcomes\n",
    "\n",
    "        # 所有子代中女性帶因者的比例 / Overall female carrier rate\n",
    "        total_carrier = offspring_outcomes['女性']['帶因者']\n",
    "        results['總體帶因比例'] = total_carrier / total_outcomes\n",
    "\n",
    "    return results\n",
    "\n",
    "\n",
    "# ========== 程式主流程：取得輸入並顯示結果 ==========\n",
    "# Main script: get input and display result\n",
    "\n",
    "# 提示使用者輸入母親與父親的表現型\n",
    "# Ask user to input phenotypes\n",
    "mother = input(\"請輸入母親的表現型（正常/帶因者/蠶豆症）：\")\n",
    "father = input(\"請輸入父親的表現型（正常/蠶豆症）：\")\n",
    "\n",
    "# 呼叫主函數進行風險計算\n",
    "# Call function to calculate risk\n",
    "risk = calculate_g6pd_risk(mother, father)\n",
    "\n",
    "# 根據結果印出詳細說明\n",
    "# Print result based on calculation\n",
    "if \"error\" in risk:\n",
    "    print(risk[\"error\"])\n",
    "else:\n",
    "    print(\"\\n子孫罹患蠶豆症的預估比例：\")\n",
    "    print(\"Estimated G6PD Deficiency Risk in Offspring:\")\n",
    "    print(\"--------------------\")\n",
    "    print(\"男性 / Male:\")\n",
    "    print(f\"  正常 / Normal: {risk['男性'].get('正常比例', 0.0):.2%}\")\n",
    "    print(f\"  蠶豆症 / Affected: {risk['男性'].get('蠶豆症比例', 0.0):.2%}\")\n",
    "    print(\"女性 / Female:\")\n",
    "    print(f\"  正常 / Normal: {risk['女性'].get('正常比例', 0.0):.2%}\")\n",
    "    print(f\"  帶因者 / Carrier: {risk['女性'].get('帶因比例', 0.0):.2%}\")\n",
    "    print(f\"  蠶豆症 / Affected: {risk['女性'].get('蠶豆症比例', 0.0):.2%}\")\n",
    "    print(\"--------------------\")\n",
    "    print(f\"總體罹患蠶豆症比例 / Overall Affected Rate: {risk.get('總體罹患比例', 0.0):.2%}\")\n",
    "    print(f\"總體帶因比例 (女性) / Overall Carrier Rate (Female): {risk.get('總體帶因比例', 0.0):.2%}\")"
   ]
  },
  {
   "cell_type": "code",
   "execution_count": 3,
   "id": "f7995c49",
   "metadata": {},
   "outputs": [],
   "source": [
    "rts = int(input('請輸入一個數字'))\n",
    "if rts <= 0:\n",
    "    print('輸入錯誤')"
   ]
  },
  {
   "cell_type": "code",
   "execution_count": 1,
   "id": "290bfe81",
   "metadata": {},
   "outputs": [
    {
     "name": "stdout",
     "output_type": "stream",
     "text": [
      "<class 'int'>\n",
      "<class 'float'>\n",
      "<class 'str'>\n",
      "<class 'bool'>\n"
     ]
    }
   ],
   "source": [
    "a = 100\n",
    "print(type(a))\n",
    "\n",
    "a = 100.0\n",
    "print(type(a))\n",
    "\n",
    "a = '100.0'\n",
    "print(type(a))\n",
    "\n",
    "a = True\n",
    "print(type(a))"
   ]
  },
  {
   "cell_type": "code",
   "execution_count": 2,
   "id": "3f9a95aa",
   "metadata": {},
   "outputs": [
    {
     "name": "stdout",
     "output_type": "stream",
     "text": [
      "9772200\n",
      "128681945380928\n"
     ]
    }
   ],
   "source": [
    "a=5\n",
    "a=20\n",
    "print(id(a))\n",
    "a=\"test\" \n",
    "print(id(a)) "
   ]
  },
  {
   "cell_type": "code",
   "execution_count": null,
   "id": "bd00e769",
   "metadata": {},
   "outputs": [
    {
     "data": {
      "text/plain": [
       "'A C B'"
      ]
     },
     "execution_count": 4,
     "metadata": {},
     "output_type": "execute_result"
    }
   ],
   "source": [
    "#不指定位置，依序輸出\n",
    ">>> \"{} {} {}\".format(\"A\", \"B\", \"C\")\n",
    "\n",
    "\n",
    "\n",
    "#用名稱指定位置\n",
    "\"{a} {c} {b}\".format(a=\"A\", b=\"B\", c=\"C\")"
   ]
  },
  {
   "cell_type": "code",
   "execution_count": 8,
   "id": "0e944655",
   "metadata": {},
   "outputs": [
    {
     "data": {
      "text/plain": [
       "'B C A'"
      ]
     },
     "execution_count": 8,
     "metadata": {},
     "output_type": "execute_result"
    }
   ],
   "source": [
    "#用數字指定位置\n",
    "\"{1} {2} {0}\".format(\"A\", \"B\", \"C\") "
   ]
  },
  {
   "cell_type": "code",
   "execution_count": 12,
   "id": "d6a45cc9",
   "metadata": {},
   "outputs": [
    {
     "name": "stdout",
     "output_type": "stream",
     "text": [
      "13\n"
     ]
    }
   ],
   "source": [
    "a = 15\n",
    "if a >= 14:\n",
    "\ta -= 2 \n",
    "\tprint(a)"
   ]
  },
  {
   "cell_type": "code",
   "execution_count": 30,
   "id": "1def406e",
   "metadata": {},
   "outputs": [
    {
     "ename": "SyntaxError",
     "evalue": "invalid syntax (2447615192.py, line 12)",
     "output_type": "error",
     "traceback": [
      "  \u001b[36mCell\u001b[39m\u001b[36m \u001b[39m\u001b[32mIn[30]\u001b[39m\u001b[32m, line 12\u001b[39m\n\u001b[31m    \u001b[39m\u001b[31mfinally:\u001b[39m\n    ^\n\u001b[31mSyntaxError\u001b[39m\u001b[31m:\u001b[39m invalid syntax\n"
     ]
    }
   ],
   "source": [
    "score=int(input('請輸入分數'))\n",
    "if score>=300:\n",
    "    score=300\n",
    "    print(f'不需要加分，已達滿分，分數為{score}')\n",
    "if score<300:\n",
    "    score*=1.05\n",
    "    if score>=300:\n",
    "        score=300\n",
    "        print(f'已達到上限分數，分數為{score}')\n",
    "    if score<300:\n",
    "        print(f'最終分數為{score}')\n",
    "finally:\n",
    "print('jig4su32u, ')     \n"
   ]
  },
  {
   "cell_type": "code",
   "execution_count": 16,
   "id": "03dfbfb8",
   "metadata": {},
   "outputs": [
    {
     "name": "stdout",
     "output_type": "stream",
     "text": [
      "300\n"
     ]
    }
   ],
   "source": [
    "#學生總分為300\n",
    "#有些學生可以加分5%\n",
    "#如果加分超過300,就以300分為準\n",
    "\n",
    "scores = int(input(\"請輸入學生分數(最高300分):\"))\n",
    "is_add = input(\"學生是否符合加分條件?(y,n)\")\n",
    "\n",
    "if(is_add == \"y\"): #單項選擇\n",
    "    scores *= 1.05\n",
    "    if scores > 300:\n",
    "        scores = 300\n",
    "        \n",
    "\n",
    "print(round(scores))"
   ]
  },
  {
   "cell_type": "code",
   "execution_count": 2,
   "id": "3b8366d5",
   "metadata": {},
   "outputs": [
    {
     "name": "stdout",
     "output_type": "stream",
     "text": [
      "輸入格式錯誤\n"
     ]
    }
   ],
   "source": [
    "try:\n",
    "    money = int(input(\"請輸入金額:\"))\n",
    "    print(money)\n",
    "except:\n",
    "    print(\"輸入格式錯誤\")"
   ]
  },
  {
   "cell_type": "code",
   "execution_count": 6,
   "id": "dcaa4197",
   "metadata": {},
   "outputs": [
    {
     "name": "stdout",
     "output_type": "stream",
     "text": [
      "最終分數為105.0\n"
     ]
    }
   ],
   "source": [
    "#學生總分為300\n",
    "#有些學生可以加分5%\n",
    "#如果加分超過300,就以300分為準\n",
    "score=int(input('請輸入學生成績(最高300分)'))\n",
    "if score>300:\n",
    "    print('超出最高分數，請確認成績並重新輸入')\n",
    "elif score<0:\n",
    "    print('成績不能為負數，請重新輸入')\n",
    "else:\n",
    "    score=score*1.05\n",
    "    if score>300:\n",
    "        score=300\n",
    "        print(f'以達到上限分數，最終分數為{score}')\n",
    "    elif score<=300:\n",
    "        print(f'最終分數為{score}')\n",
    "        "
   ]
  },
  {
   "cell_type": "code",
   "execution_count": 7,
   "id": "bc29d9da",
   "metadata": {},
   "outputs": [
    {
     "name": "stdout",
     "output_type": "stream",
     "text": [
      "密碼錯誤\n",
      "請重新輸入\n"
     ]
    }
   ],
   "source": [
    "password = input('請輸入密碼:')\n",
    "if password == \"1234\":\n",
    "    print('密碼正確!歡迎光臨!')\n",
    "else:\n",
    "    print('密碼錯誤\\n請重新輸入')"
   ]
  },
  {
   "cell_type": "code",
   "execution_count": 10,
   "id": "523e5aa9",
   "metadata": {},
   "outputs": [
    {
     "name": "stdout",
     "output_type": "stream",
     "text": [
      "很抱歉您尚未享有慎和優惠，最終金額為866元\n"
     ]
    }
   ],
   "source": [
    "#VIP會員且消費滿1000打8折\n",
    "#普通會員且消費滿500打9折\n",
    "#非會員消費滿1000打95折\n",
    "#其他情況無折扣\n",
    "amount=int(input('請輸入消費金額'))\n",
    "is_vip=input('是何種顧客(vip/普通會員/非會員)')\n",
    "if is_vip=='vip' and amount >=1000:\n",
    "    amount=amount*0.8\n",
    "    print(f'因為您為vip會員且消費滿1000元，故享有8折優惠，最終金額為{amount}元')\n",
    "elif is_vip=='普通會員' and amount>=500:\n",
    "    amount*=0.9\n",
    "    print(f'因為您是普通會員且消費滿500，故享有9折優惠，最終金額為{amount}元')\n",
    "elif amount >=1000 and is_vip=='非會員':\n",
    "        amount*=0.95\n",
    "        print(f'因為您是非會員且消費滿1000元，故享有9折優惠，最終金額為{amount}元')\n",
    "else: \n",
    "     print(f'很抱歉您尚未享有慎和優惠，最終金額為{amount}元')"
   ]
  },
  {
   "cell_type": "code",
   "execution_count": 11,
   "id": "0440c14a",
   "metadata": {},
   "outputs": [
    {
     "name": "stdout",
     "output_type": "stream",
     "text": [
      "apple\n",
      "banana\n",
      "cherry\n"
     ]
    }
   ],
   "source": [
    "fruits = [\"apple\", \"banana\", \"cherry\"]\n",
    "for fruit in fruits:\n",
    "    print(fruit)"
   ]
  },
  {
   "cell_type": "code",
   "execution_count": null,
   "id": "117740b6",
   "metadata": {},
   "outputs": [
    {
     "name": "stdout",
     "output_type": "stream",
     "text": [
      "15\n",
      "12\n",
      "9\n",
      "6\n",
      "3\n",
      "0\n"
     ]
    }
   ],
   "source": [
    "#使用 range() 寫出能產生以下序列的代碼：\n",
    "#0, 3, 6, 9, 12\n",
    "#15, 12, 9, 6, 3, 0\n",
    "for e in range(15,-1,-3):\n",
    "    print(e)\n",
    "    "
   ]
  },
  {
   "cell_type": "code",
   "execution_count": 4,
   "id": "73b9bd02",
   "metadata": {},
   "outputs": [
    {
     "name": "stdout",
     "output_type": "stream",
     "text": [
      "name Alice\n",
      "age 25\n",
      "city New York\n"
     ]
    }
   ],
   "source": [
    "person = {\"name\": \"Alice\", \"age\": 25, \"city\": \"New York\"}\n",
    "\n",
    "for key, value in person.items():\n",
    "    print(key, value)"
   ]
  },
  {
   "cell_type": "code",
   "execution_count": 5,
   "id": "861ae19b",
   "metadata": {},
   "outputs": [
    {
     "name": "stdout",
     "output_type": "stream",
     "text": [
      "兩個參數\n",
      "4\n",
      "5\n",
      "6\n",
      "7\n",
      "離開後i為 7\n"
     ]
    }
   ],
   "source": [
    "#for 迴圈兩個參數:請留意輸出結果\n",
    "#for2.py\n",
    "\n",
    "print(\"兩個參數\") \n",
    "for i in range(4,8):\n",
    "    print(i)\n",
    "print(\"離開後i為\",i)"
   ]
  },
  {
   "cell_type": "code",
   "execution_count": 1,
   "id": "8612b567",
   "metadata": {},
   "outputs": [
    {
     "name": "stdout",
     "output_type": "stream",
     "text": [
      "張楷唯：我是你爹\n"
     ]
    }
   ],
   "source": [
    "print('張楷唯：我是你爹')"
   ]
  }
 ],
 "metadata": {
  "kernelspec": {
   "display_name": "base",
   "language": "python",
   "name": "python3"
  },
  "language_info": {
   "codemirror_mode": {
    "name": "ipython",
    "version": 3
   },
   "file_extension": ".py",
   "mimetype": "text/x-python",
   "name": "python",
   "nbconvert_exporter": "python",
   "pygments_lexer": "ipython3",
   "version": "3.12.9"
  }
 },
 "nbformat": 4,
 "nbformat_minor": 5
}
