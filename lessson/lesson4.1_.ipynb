{
 "cells": [
  {
   "cell_type": "code",
   "execution_count": 9,
   "id": "f506beac",
   "metadata": {},
   "outputs": [
    {
     "name": "stdout",
     "output_type": "stream",
     "text": [
      "這是true的程式區塊\n",
      "現在是True\n",
      "應用程式結束\n"
     ]
    }
   ],
   "source": [
    "if True:\n",
    "    print(\"這是true的程式區塊\")\n",
    "    print(\"現在是True\")\n",
    "else:\n",
    "    print(\"這是False的程式區塊\")\n",
    "    print(\"現在是False\")\n",
    "print(\"應用程式結束\")"
   ]
  },
  {
   "cell_type": "code",
   "execution_count": 5,
   "id": "83a18e1d",
   "metadata": {},
   "outputs": [
    {
     "name": "stdout",
     "output_type": "stream",
     "text": [
      "這是True的程式區塊\n",
      "現在是True\n",
      "應用程式結束\n"
     ]
    }
   ],
   "source": [
    "if True:\n",
    "    print(\"這是True的程式區塊\")\n",
    "    print(\"現在是True\")\n",
    "else:\n",
    "    print(\"這是False的程式區塊\")\n",
    "    print(\"現在是False\")\n",
    "print(\"應用程式結束\")"
   ]
  },
  {
   "cell_type": "code",
   "execution_count": 23,
   "id": "094c436b",
   "metadata": {},
   "outputs": [
    {
     "name": "stdout",
     "output_type": "stream",
     "text": [
      "重量:55\n",
      "身高:3\n",
      "BMI:6.111111111111111\n"
     ]
    },
    {
     "ename": "NameError",
     "evalue": "name '體重正常' is not defined",
     "output_type": "error",
     "traceback": [
      "\u001b[31m---------------------------------------------------------------------------\u001b[39m",
      "\u001b[31mNameError\u001b[39m                                 Traceback (most recent call last)",
      "\u001b[36mCell\u001b[39m\u001b[36m \u001b[39m\u001b[32mIn[23]\u001b[39m\u001b[32m, line 10\u001b[39m\n\u001b[32m      8\u001b[39m     \u001b[38;5;28mprint\u001b[39m(\u001b[33m\"\u001b[39m\u001b[33m體重過重\u001b[39m\u001b[33m\"\u001b[39m)\n\u001b[32m      9\u001b[39m \u001b[38;5;28;01melse\u001b[39;00m:\n\u001b[32m---> \u001b[39m\u001b[32m10\u001b[39m     \u001b[38;5;28mprint\u001b[39m(\u001b[33mf\u001b[39m\u001b[33m\"\u001b[39m\u001b[33msu32u:\u001b[39m\u001b[38;5;132;01m{\u001b[39;00m\u001b[43m體重正常\u001b[49m\u001b[38;5;132;01m}\u001b[39;00m\u001b[33m\"\u001b[39m)\n",
      "\u001b[31mNameError\u001b[39m: name '體重正常' is not defined"
     ]
    }
   ],
   "source": [
    "kg=eval(input(\"請輸入體重\"))\n",
    "m=eval(input(\"請輸入身高\"))\n",
    "BMI=(kg/m**2)\n",
    "print(f\"重量:{kg}\")\n",
    "print(f\"身高:{m}\")\n",
    "print(f\"BMI:{BMI}\")\n",
    "if BMI>20:\n",
    "    print(\"體重過重\")\n",
    "else:\n",
    "    print(f\"su32u:{體重正常}\")"
   ]
  },
  {
   "cell_type": "code",
   "execution_count": 44,
   "id": "c40b1c6a",
   "metadata": {},
   "outputs": [
    {
     "name": "stdout",
     "output_type": "stream",
     "text": [
      "輸入成績有錯誤\n",
      "300\n"
     ]
    }
   ],
   "source": [
    "try:\n",
    "    scores:int=int(input(\"請輸入學生分數(最高300分)\"))\n",
    "    is_add:str=input(\"學生是否符合加分項目?(Y,N)\")\n",
    "    if(is_add==\"Y\"):\n",
    "        scores*=1.05\n",
    "        if scores>300:\n",
    "            scores=300\n",
    "except:\n",
    "    print(\"輸入成績有錯誤\")\n",
    "print(round(scores))"
   ]
  },
  {
   "cell_type": "code",
   "execution_count": 46,
   "id": "25bc4657",
   "metadata": {},
   "outputs": [
    {
     "name": "stdout",
     "output_type": "stream",
     "text": [
      "輸入有錯誤\n",
      "300\n"
     ]
    }
   ],
   "source": [
    "try:\n",
    "    scores:int = int(input(\"請輸入學生分數(最高300分):\"))\n",
    "    is_add:str = input(\"學生是否符合加分條件?(y,n)\")\n",
    "    if(is_add == \"y\"):\n",
    "        scores *= 1.05\n",
    "        if scores > 300:\n",
    "            scores = 300\n",
    "except:\n",
    "    print(\"輸入有錯誤\")\n",
    "print(round(scores))"
   ]
  },
  {
   "cell_type": "code",
   "execution_count": 53,
   "id": "f5330865",
   "metadata": {},
   "outputs": [
    {
     "name": "stdout",
     "output_type": "stream",
     "text": [
      "566\n"
     ]
    }
   ],
   "source": [
    "try:\n",
    "    scores:int = int(input(\"請輸入學生分數(最高300分):\"))\n",
    "    is_add:str = input(\"學生是否符合加分條件?(y,n)\")\n",
    "    if(is_add == \"y\"):\n",
    "        scores *= 1.05\n",
    "        if scores > 300:\n",
    "            scores = 300\n",
    "except ValueError:\n",
    "    print(\"輸入有錯誤\")\n",
    "except Excepttion:\n",
    "    print(\"不吱悔改\")\n",
    "print(round(scores))"
   ]
  },
  {
   "cell_type": "code",
   "execution_count": null,
   "id": "44b49178",
   "metadata": {},
   "outputs": [],
   "source": [
    "try:\n",
    "    scores:int = int(input(\"請輸入學生分數(最高300分):\"))\n",
    "    if scores > 300:\n",
    "        raise Exception(\"輸入分數超過300\") #自已raise錯誤\n",
    "    is_add:str = input(\"學生是否符合加分條件?(y,n)\")\n",
    "    if(is_add == \"y\"):\n",
    "        scores *= 1.05\n",
    "        if scores > 300:\n",
    "            scores = 300    \n",
    "except ValueError:\n",
    "    print(\"輸入有錯誤\")\n",
    "except Exception as e:\n",
    "    print(e)\n",
    "else:\n",
    "    print(round(scores))\n",
    "print(\"應用程式結束\")"
   ]
  }
 ],
 "metadata": {
  "kernelspec": {
   "display_name": "base",
   "language": "python",
   "name": "python3"
  },
  "language_info": {
   "codemirror_mode": {
    "name": "ipython",
    "version": 3
   },
   "file_extension": ".py",
   "mimetype": "text/x-python",
   "name": "python",
   "nbconvert_exporter": "python",
   "pygments_lexer": "ipython3",
   "version": "3.12.9"
  }
 },
 "nbformat": 4,
 "nbformat_minor": 5
}
