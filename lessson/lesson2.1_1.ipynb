{
 "cells": [
  {
   "cell_type": "markdown",
   "id": "47543ab6",
   "metadata": {},
   "source": [
    "數值運算(int,float)\n",
    "數學運算子\n",
    "運算子運算順序"
   ]
  },
  {
   "cell_type": "code",
   "execution_count": 1,
   "id": "0969ead1",
   "metadata": {},
   "outputs": [
    {
     "data": {
      "text/plain": [
       "10"
      ]
     },
     "execution_count": 1,
     "metadata": {},
     "output_type": "execute_result"
    }
   ],
   "source": [
    "2 * (1 + 2) ** 2 - 2 ** 2 * 2"
   ]
  },
  {
   "cell_type": "code",
   "execution_count": 9,
   "id": "e4ec4a45",
   "metadata": {},
   "outputs": [
    {
     "data": {
      "text/plain": [
       "0.2"
      ]
     },
     "execution_count": 9,
     "metadata": {},
     "output_type": "execute_result"
    }
   ],
   "source": [
    "n/m"
   ]
  },
  {
   "cell_type": "markdown",
   "id": "26779421",
   "metadata": {},
   "source": [
    "### 建立變數"
   ]
  },
  {
   "cell_type": "code",
   "execution_count": null,
   "id": "48f97c4d",
   "metadata": {},
   "outputs": [
    {
     "name": "stdout",
     "output_type": "stream",
     "text": [
      "total= 30\n"
     ]
    }
   ],
   "source": [
    "n=5 \n",
    "m=25\n",
    "n+m\n",
    "total = n + m #敘述式\n",
    "print(\"total=\", total) # 敘述式"
   ]
  },
  {
   "cell_type": "code",
   "execution_count": 8,
   "id": "c1fbf133",
   "metadata": {},
   "outputs": [
    {
     "data": {
      "text/plain": [
       "40"
      ]
     },
     "execution_count": 8,
     "metadata": {},
     "output_type": "execute_result"
    }
   ],
   "source": [
    "n*8"
   ]
  },
  {
   "cell_type": "code",
   "execution_count": 11,
   "id": "15c5607e",
   "metadata": {},
   "outputs": [
    {
     "name": "stdout",
     "output_type": "stream",
     "text": [
      "15 25\n"
     ]
    }
   ],
   "source": [
    "x = 5 + 10\n",
    "y = 20 + 5\n",
    "print(x, y)\n"
   ]
  },
  {
   "cell_type": "markdown",
   "id": "d668c5ab",
   "metadata": {},
   "source": [
    "輸入\n",
    "input()\n",
    "輸出\n",
    "print()"
   ]
  },
  {
   "cell_type": "code",
   "execution_count": 13,
   "id": "57e8c98f",
   "metadata": {},
   "outputs": [
    {
     "name": "stdout",
     "output_type": "stream",
     "text": [
      "您輸入的是整數: 20\n"
     ]
    }
   ],
   "source": [
    "value_str = input(\"請輸入整數:\")\n",
    "value = int(value_str)\n",
    "print(\"您輸入的是整數:\", value)\n"
   ]
  },
  {
   "cell_type": "code",
   "execution_count": 17,
   "id": "af356dfe",
   "metadata": {},
   "outputs": [
    {
     "name": "stdout",
     "output_type": "stream",
     "text": [
      "兩數相加的合: 10554\n"
     ]
    }
   ],
   "source": [
    "value1=int(input(\"請輸入第一個整數\"))\n",
    "value2=int(input(\"請輸入第二個整數\"))\n",
    "last=value1+value2\n",
    "print(\"兩數相加的合:\",last)"
   ]
  },
  {
   "cell_type": "code",
   "execution_count": 18,
   "id": "bef2108c",
   "metadata": {},
   "outputs": [
    {
     "name": "stdout",
     "output_type": "stream",
     "text": [
      "矩形寬是: 55\n",
      "矩形高是: 66\n",
      "矩形面積是: 3630\n"
     ]
    }
   ],
   "source": [
    "width=eval(input(\"請輸入矩形寬:\"))\n",
    "height=eval(input(\"請輸入矩形高:\"))\n",
    "area=width * height\n",
    "print(\"矩形寬是:\",width)\n",
    "print(\"矩形高是:\",height)\n",
    "print(\"矩形面積是:\",area)\n"
   ]
  }
 ],
 "metadata": {
  "kernelspec": {
   "display_name": "base",
   "language": "python",
   "name": "python3"
  },
  "language_info": {
   "codemirror_mode": {
    "name": "ipython",
    "version": 3
   },
   "file_extension": ".py",
   "mimetype": "text/x-python",
   "name": "python",
   "nbconvert_exporter": "python",
   "pygments_lexer": "ipython3",
   "version": "3.12.9"
  }
 },
 "nbformat": 4,
 "nbformat_minor": 5
}
