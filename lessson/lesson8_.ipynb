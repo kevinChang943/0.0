{
 "cells": [
  {
   "cell_type": "code",
   "execution_count": 7,
   "id": "04434932",
   "metadata": {},
   "outputs": [
    {
     "data": {
      "text/plain": [
       "'three'"
      ]
     },
     "execution_count": 7,
     "metadata": {},
     "output_type": "execute_result"
    }
   ],
   "source": [
    "weekday=['one','two','three','four','five','six','seven']\n",
    "weekday[0]\n",
    "weekday[:5]\n",
    "weekday[-3:]\n",
    "weekday[1:6]\n",
    "weekday[-5]\n"
   ]
  },
  {
   "cell_type": "markdown",
   "id": "bf03ebf1",
   "metadata": {},
   "source": [
    "dict\n",
    "mutable(可變的變數)\n",
    "Mapping(mapping資料)\n",
    "iterable(可重覆讀取)\n",
    "用大括號符號{key:value}來建立\n",
    "typehint(dict)"
   ]
  },
  {
   "cell_type": "code",
   "execution_count": null,
   "id": "74a9f57d",
   "metadata": {},
   "outputs": [
    {
     "data": {
      "text/plain": [
       "{'tw': 'Taiwan', 'jp': 'Japan', 'hk': 'Hong Kong'}"
      ]
     },
     "execution_count": 9,
     "metadata": {},
     "output_type": "execute_result"
    }
   ],
   "source": [
    "codes = {\"tw\":\"Taiwan\", \"jp\":\"Japan\", \"hk\":\"Hong Kong\"}\n",
    "codes"
   ]
  },
  {
   "cell_type": "code",
   "execution_count": 15,
   "id": "b4aaf4ee",
   "metadata": {},
   "outputs": [
    {
     "name": "stdout",
     "output_type": "stream",
     "text": [
      "tw\n",
      "Taiwan\n",
      "=========\n",
      "jp\n",
      "Japan\n",
      "=========\n",
      "hk\n",
      "Hong Kong\n",
      "=========\n"
     ]
    }
   ],
   "source": [
    "for key in codes:\n",
    "    print(key)\n",
    "    print(codes[key])\n",
    "    print('=========')"
   ]
  },
  {
   "cell_type": "code",
   "execution_count": 17,
   "id": "336485bd",
   "metadata": {},
   "outputs": [
    {
     "data": {
      "text/plain": [
       "{'a', 'b', 'c'}"
      ]
     },
     "execution_count": 17,
     "metadata": {},
     "output_type": "execute_result"
    }
   ],
   "source": [
    "city={'a','b','c','a','b','c'}\n",
    "city\n"
   ]
  },
  {
   "cell_type": "code",
   "execution_count": 20,
   "id": "165bbab7",
   "metadata": {},
   "outputs": [
    {
     "name": "stdout",
     "output_type": "stream",
     "text": [
      "1\n",
      "2\n",
      "3\n",
      "4\n",
      "5\n",
      "6\n",
      "7\n",
      "8\n",
      "9\n",
      "10\n"
     ]
    }
   ],
   "source": [
    "for i in range(1,11):\n",
    "    print(i)"
   ]
  },
  {
   "cell_type": "code",
   "execution_count": 21,
   "id": "37d8b305",
   "metadata": {},
   "outputs": [
    {
     "data": {
      "text/plain": [
       "[2, 4, 6, 8, 10, 12, 14, 16, 18, 20]"
      ]
     },
     "execution_count": 21,
     "metadata": {},
     "output_type": "execute_result"
    }
   ],
   "source": [
    "[i*2 for i in range(1, 11)]"
   ]
  },
  {
   "cell_type": "code",
   "execution_count": 32,
   "id": "20d44962",
   "metadata": {},
   "outputs": [
    {
     "data": {
      "text/plain": [
       "[{'name': 'lyon', 'age': 25, 'score': 20},\n",
       " {'name': 'kevin', 'age': 5, 'score': 60},\n",
       " {'name': 'jhon', 'age': 51, 'score': 90}]"
      ]
     },
     "execution_count": 32,
     "metadata": {},
     "output_type": "execute_result"
    }
   ],
   "source": [
    "students=[{'name':'lyon','age':25,'score':20},\n",
    "        {'name':'kevin','age':5,'score':60},\n",
    "        {'name':'jhon','age':51,'score':90}]\n",
    "students\n"
   ]
  },
  {
   "cell_type": "code",
   "execution_count": 36,
   "id": "15f1baf5",
   "metadata": {},
   "outputs": [
    {
     "name": "stdout",
     "output_type": "stream",
     "text": [
      "{'name': 'lyon', 'age': 25, 'score': 20}\n",
      "{'name': 'kevin', 'age': 5, 'score': 60}\n",
      "{'name': 'jhon', 'age': 51, 'score': 90}\n"
     ]
    }
   ],
   "source": [
    "for l in students:\n",
    "    print(l)"
   ]
  }
 ],
 "metadata": {
  "kernelspec": {
   "display_name": "base",
   "language": "python",
   "name": "python3"
  },
  "language_info": {
   "codemirror_mode": {
    "name": "ipython",
    "version": 3
   },
   "file_extension": ".py",
   "mimetype": "text/x-python",
   "name": "python",
   "nbconvert_exporter": "python",
   "pygments_lexer": "ipython3",
   "version": "3.12.9"
  }
 },
 "nbformat": 4,
 "nbformat_minor": 5
}
